{
 "cells": [
  {
   "cell_type": "markdown",
   "id": "a6cf2178-0b08-48c0-9a27-82055516c3cb",
   "metadata": {},
   "source": [
    "# Exploratory Data Analysis (EDA) - Kaggle Titanic Dataset"
   ]
  },
  {
   "cell_type": "markdown",
   "id": "5b5912aa-3ac0-4e6a-81e2-778d409f4c85",
   "metadata": {
    "jp-MarkdownHeadingCollapsed": true,
    "tags": []
   },
   "source": [
    "In this notebook, an exploratory data analysis was performed on the Titanic datasets extracted from [Kaggle] with focus on gathering relevant analyses, patterns, and insights. This work is intended to serve as a well-grounded foundation which will be helpful in generating the model to predict the solution goal further down the line.  \n",
    "\n",
    "I am very happy to present this first project that I have undertaken. I am still a novice in the field of data science and machine learning so any form of feedback and improvements are encouraged and welcomed. I am always looking forward to hear them out and take this opportunity to know more about the ins-and-outs in this field and to further enhance my skills. \n",
    "\n",
    "## Specific Objectives\n",
    "The purpose of the notebook is to practice Exploratory Data Analysis and Visualization in line with going through the following workflow stages:\n",
    "- **Comprehend.** Understand the nature and relationships among each features in the datasets\n",
    "- **Correlate.** Validate the strength of association across features with the appopriate statistical tools and metrics based on the distributions and data types of the features.\n",
    "- **Control.** Identify and remedy the missing/null values. May consider imputing them for features that are deemed significant.  \n",
    "- **Convert.** Perform the necessary adjustments (i.e. one-hot encoding) to make the datasets appropriate for modelling.\n",
    "- **Create.** Create new features out of the given features such that they may follow correlation with the solution goal.\n",
    "- **Conclude.** Generate the final training set with the significantly correlated features ready for modelling."
   ]
  },
  {
   "cell_type": "markdown",
   "id": "14966245-1f02-4b1b-92b6-cedfd4fb63e7",
   "metadata": {},
   "source": [
    "## Background of the Problem\n",
    "The complete overview and description of the Kaggle competition be found [here](https://www.kaggle.com/c/titanic). Here are some of information we were provided with the link.\n",
    "- On April 15, 1912, during her maiden voyage, the widely considered “unsinkable” RMS Titanic sank after colliding with an iceberg.\n",
    "- Unfortunately, there weren’t enough lifeboats for everyone onboard, resulting in the death of 1502 out of 2224 passengers and crew.\n",
    "- While there was some element of luck involved in surviving, it seems some groups of people were more likely to survive than others."
   ]
  },
  {
   "cell_type": "code",
   "execution_count": 354,
   "id": "f2c78381-60bd-4c42-b288-95e71ad5a545",
   "metadata": {},
   "outputs": [],
   "source": [
    "# data analysis\n",
    "import pandas as pd\n",
    "import numpy as np\n",
    "\n",
    "# data visualization\n",
    "import seaborn as sns\n",
    "import matplotlib.pyplot as plt\n",
    "%matplotlib inline"
   ]
  },
  {
   "cell_type": "markdown",
   "id": "7a51489e-67e7-4492-a44d-d1cbc5bbaac5",
   "metadata": {},
   "source": [
    "## Acquire Training and Testing Data\n",
    "\n",
    "The information regarding the features are explicitly presented [here](https://www.kaggle.com/competitions/titanic/data?select=train.csv) in detail."
   ]
  },
  {
   "cell_type": "code",
   "execution_count": 355,
   "id": "ae460ab2-b08d-4fe6-bdde-a808af808801",
   "metadata": {},
   "outputs": [
    {
     "data": {
      "text/html": [
       "<div>\n",
       "<style scoped>\n",
       "    .dataframe tbody tr th:only-of-type {\n",
       "        vertical-align: middle;\n",
       "    }\n",
       "\n",
       "    .dataframe tbody tr th {\n",
       "        vertical-align: top;\n",
       "    }\n",
       "\n",
       "    .dataframe thead th {\n",
       "        text-align: right;\n",
       "    }\n",
       "</style>\n",
       "<table border=\"1\" class=\"dataframe\">\n",
       "  <thead>\n",
       "    <tr style=\"text-align: right;\">\n",
       "      <th></th>\n",
       "      <th>PassengerId</th>\n",
       "      <th>Pclass</th>\n",
       "      <th>Name</th>\n",
       "      <th>Sex</th>\n",
       "      <th>Age</th>\n",
       "      <th>SibSp</th>\n",
       "      <th>Parch</th>\n",
       "      <th>Ticket</th>\n",
       "      <th>Fare</th>\n",
       "      <th>Cabin</th>\n",
       "      <th>Embarked</th>\n",
       "    </tr>\n",
       "  </thead>\n",
       "  <tbody>\n",
       "    <tr>\n",
       "      <th>0</th>\n",
       "      <td>892</td>\n",
       "      <td>3</td>\n",
       "      <td>Kelly, Mr. James</td>\n",
       "      <td>male</td>\n",
       "      <td>34.5</td>\n",
       "      <td>0</td>\n",
       "      <td>0</td>\n",
       "      <td>330911</td>\n",
       "      <td>7.8292</td>\n",
       "      <td>NaN</td>\n",
       "      <td>Q</td>\n",
       "    </tr>\n",
       "    <tr>\n",
       "      <th>1</th>\n",
       "      <td>893</td>\n",
       "      <td>3</td>\n",
       "      <td>Wilkes, Mrs. James (Ellen Needs)</td>\n",
       "      <td>female</td>\n",
       "      <td>47.0</td>\n",
       "      <td>1</td>\n",
       "      <td>0</td>\n",
       "      <td>363272</td>\n",
       "      <td>7.0000</td>\n",
       "      <td>NaN</td>\n",
       "      <td>S</td>\n",
       "    </tr>\n",
       "    <tr>\n",
       "      <th>2</th>\n",
       "      <td>894</td>\n",
       "      <td>2</td>\n",
       "      <td>Myles, Mr. Thomas Francis</td>\n",
       "      <td>male</td>\n",
       "      <td>62.0</td>\n",
       "      <td>0</td>\n",
       "      <td>0</td>\n",
       "      <td>240276</td>\n",
       "      <td>9.6875</td>\n",
       "      <td>NaN</td>\n",
       "      <td>Q</td>\n",
       "    </tr>\n",
       "    <tr>\n",
       "      <th>3</th>\n",
       "      <td>895</td>\n",
       "      <td>3</td>\n",
       "      <td>Wirz, Mr. Albert</td>\n",
       "      <td>male</td>\n",
       "      <td>27.0</td>\n",
       "      <td>0</td>\n",
       "      <td>0</td>\n",
       "      <td>315154</td>\n",
       "      <td>8.6625</td>\n",
       "      <td>NaN</td>\n",
       "      <td>S</td>\n",
       "    </tr>\n",
       "    <tr>\n",
       "      <th>4</th>\n",
       "      <td>896</td>\n",
       "      <td>3</td>\n",
       "      <td>Hirvonen, Mrs. Alexander (Helga E Lindqvist)</td>\n",
       "      <td>female</td>\n",
       "      <td>22.0</td>\n",
       "      <td>1</td>\n",
       "      <td>1</td>\n",
       "      <td>3101298</td>\n",
       "      <td>12.2875</td>\n",
       "      <td>NaN</td>\n",
       "      <td>S</td>\n",
       "    </tr>\n",
       "  </tbody>\n",
       "</table>\n",
       "</div>"
      ],
      "text/plain": [
       "   PassengerId  Pclass                                          Name     Sex  \\\n",
       "0          892       3                              Kelly, Mr. James    male   \n",
       "1          893       3              Wilkes, Mrs. James (Ellen Needs)  female   \n",
       "2          894       2                     Myles, Mr. Thomas Francis    male   \n",
       "3          895       3                              Wirz, Mr. Albert    male   \n",
       "4          896       3  Hirvonen, Mrs. Alexander (Helga E Lindqvist)  female   \n",
       "\n",
       "    Age  SibSp  Parch   Ticket     Fare Cabin Embarked  \n",
       "0  34.5      0      0   330911   7.8292   NaN        Q  \n",
       "1  47.0      1      0   363272   7.0000   NaN        S  \n",
       "2  62.0      0      0   240276   9.6875   NaN        Q  \n",
       "3  27.0      0      0   315154   8.6625   NaN        S  \n",
       "4  22.0      1      1  3101298  12.2875   NaN        S  "
      ]
     },
     "execution_count": 355,
     "metadata": {},
     "output_type": "execute_result"
    }
   ],
   "source": [
    "train_df = pd.read_csv('train.csv')\n",
    "test_df = pd.read_csv('test.csv')\n",
    "test_df_copy = test_df.copy()\n",
    "df = [train_df, test_df]\n",
    "\n",
    "test_df_copy.head()"
   ]
  },
  {
   "cell_type": "code",
   "execution_count": 356,
   "id": "d3f64baf-d35e-438c-9764-81169abdba2c",
   "metadata": {},
   "outputs": [
    {
     "data": {
      "text/html": [
       "<div>\n",
       "<style scoped>\n",
       "    .dataframe tbody tr th:only-of-type {\n",
       "        vertical-align: middle;\n",
       "    }\n",
       "\n",
       "    .dataframe tbody tr th {\n",
       "        vertical-align: top;\n",
       "    }\n",
       "\n",
       "    .dataframe thead th {\n",
       "        text-align: right;\n",
       "    }\n",
       "</style>\n",
       "<table border=\"1\" class=\"dataframe\">\n",
       "  <thead>\n",
       "    <tr style=\"text-align: right;\">\n",
       "      <th></th>\n",
       "      <th>PassengerId</th>\n",
       "      <th>Survived</th>\n",
       "      <th>Pclass</th>\n",
       "      <th>Name</th>\n",
       "      <th>Sex</th>\n",
       "      <th>Age</th>\n",
       "      <th>SibSp</th>\n",
       "      <th>Parch</th>\n",
       "      <th>Ticket</th>\n",
       "      <th>Fare</th>\n",
       "      <th>Cabin</th>\n",
       "      <th>Embarked</th>\n",
       "    </tr>\n",
       "  </thead>\n",
       "  <tbody>\n",
       "    <tr>\n",
       "      <th>0</th>\n",
       "      <td>1</td>\n",
       "      <td>0</td>\n",
       "      <td>3</td>\n",
       "      <td>Braund, Mr. Owen Harris</td>\n",
       "      <td>male</td>\n",
       "      <td>22.0</td>\n",
       "      <td>1</td>\n",
       "      <td>0</td>\n",
       "      <td>A/5 21171</td>\n",
       "      <td>7.2500</td>\n",
       "      <td>NaN</td>\n",
       "      <td>S</td>\n",
       "    </tr>\n",
       "    <tr>\n",
       "      <th>1</th>\n",
       "      <td>2</td>\n",
       "      <td>1</td>\n",
       "      <td>1</td>\n",
       "      <td>Cumings, Mrs. John Bradley (Florence Briggs Th...</td>\n",
       "      <td>female</td>\n",
       "      <td>38.0</td>\n",
       "      <td>1</td>\n",
       "      <td>0</td>\n",
       "      <td>PC 17599</td>\n",
       "      <td>71.2833</td>\n",
       "      <td>C85</td>\n",
       "      <td>C</td>\n",
       "    </tr>\n",
       "    <tr>\n",
       "      <th>2</th>\n",
       "      <td>3</td>\n",
       "      <td>1</td>\n",
       "      <td>3</td>\n",
       "      <td>Heikkinen, Miss. Laina</td>\n",
       "      <td>female</td>\n",
       "      <td>26.0</td>\n",
       "      <td>0</td>\n",
       "      <td>0</td>\n",
       "      <td>STON/O2. 3101282</td>\n",
       "      <td>7.9250</td>\n",
       "      <td>NaN</td>\n",
       "      <td>S</td>\n",
       "    </tr>\n",
       "    <tr>\n",
       "      <th>3</th>\n",
       "      <td>4</td>\n",
       "      <td>1</td>\n",
       "      <td>1</td>\n",
       "      <td>Futrelle, Mrs. Jacques Heath (Lily May Peel)</td>\n",
       "      <td>female</td>\n",
       "      <td>35.0</td>\n",
       "      <td>1</td>\n",
       "      <td>0</td>\n",
       "      <td>113803</td>\n",
       "      <td>53.1000</td>\n",
       "      <td>C123</td>\n",
       "      <td>S</td>\n",
       "    </tr>\n",
       "    <tr>\n",
       "      <th>4</th>\n",
       "      <td>5</td>\n",
       "      <td>0</td>\n",
       "      <td>3</td>\n",
       "      <td>Allen, Mr. William Henry</td>\n",
       "      <td>male</td>\n",
       "      <td>35.0</td>\n",
       "      <td>0</td>\n",
       "      <td>0</td>\n",
       "      <td>373450</td>\n",
       "      <td>8.0500</td>\n",
       "      <td>NaN</td>\n",
       "      <td>S</td>\n",
       "    </tr>\n",
       "  </tbody>\n",
       "</table>\n",
       "</div>"
      ],
      "text/plain": [
       "   PassengerId  Survived  Pclass  \\\n",
       "0            1         0       3   \n",
       "1            2         1       1   \n",
       "2            3         1       3   \n",
       "3            4         1       1   \n",
       "4            5         0       3   \n",
       "\n",
       "                                                Name     Sex   Age  SibSp  \\\n",
       "0                            Braund, Mr. Owen Harris    male  22.0      1   \n",
       "1  Cumings, Mrs. John Bradley (Florence Briggs Th...  female  38.0      1   \n",
       "2                             Heikkinen, Miss. Laina  female  26.0      0   \n",
       "3       Futrelle, Mrs. Jacques Heath (Lily May Peel)  female  35.0      1   \n",
       "4                           Allen, Mr. William Henry    male  35.0      0   \n",
       "\n",
       "   Parch            Ticket     Fare Cabin Embarked  \n",
       "0      0         A/5 21171   7.2500   NaN        S  \n",
       "1      0          PC 17599  71.2833   C85        C  \n",
       "2      0  STON/O2. 3101282   7.9250   NaN        S  \n",
       "3      0            113803  53.1000  C123        S  \n",
       "4      0            373450   8.0500   NaN        S  "
      ]
     },
     "execution_count": 356,
     "metadata": {},
     "output_type": "execute_result"
    }
   ],
   "source": [
    "train_df.head()"
   ]
  },
  {
   "cell_type": "code",
   "execution_count": 357,
   "id": "33c93307-5bd9-4703-9b3d-ac9ccc351731",
   "metadata": {},
   "outputs": [
    {
     "data": {
      "text/html": [
       "<div>\n",
       "<style scoped>\n",
       "    .dataframe tbody tr th:only-of-type {\n",
       "        vertical-align: middle;\n",
       "    }\n",
       "\n",
       "    .dataframe tbody tr th {\n",
       "        vertical-align: top;\n",
       "    }\n",
       "\n",
       "    .dataframe thead th {\n",
       "        text-align: right;\n",
       "    }\n",
       "</style>\n",
       "<table border=\"1\" class=\"dataframe\">\n",
       "  <thead>\n",
       "    <tr style=\"text-align: right;\">\n",
       "      <th></th>\n",
       "      <th>PassengerId</th>\n",
       "      <th>Pclass</th>\n",
       "      <th>Name</th>\n",
       "      <th>Sex</th>\n",
       "      <th>Age</th>\n",
       "      <th>SibSp</th>\n",
       "      <th>Parch</th>\n",
       "      <th>Ticket</th>\n",
       "      <th>Fare</th>\n",
       "      <th>Cabin</th>\n",
       "      <th>Embarked</th>\n",
       "    </tr>\n",
       "  </thead>\n",
       "  <tbody>\n",
       "    <tr>\n",
       "      <th>0</th>\n",
       "      <td>892</td>\n",
       "      <td>3</td>\n",
       "      <td>Kelly, Mr. James</td>\n",
       "      <td>male</td>\n",
       "      <td>34.5</td>\n",
       "      <td>0</td>\n",
       "      <td>0</td>\n",
       "      <td>330911</td>\n",
       "      <td>7.8292</td>\n",
       "      <td>NaN</td>\n",
       "      <td>Q</td>\n",
       "    </tr>\n",
       "    <tr>\n",
       "      <th>1</th>\n",
       "      <td>893</td>\n",
       "      <td>3</td>\n",
       "      <td>Wilkes, Mrs. James (Ellen Needs)</td>\n",
       "      <td>female</td>\n",
       "      <td>47.0</td>\n",
       "      <td>1</td>\n",
       "      <td>0</td>\n",
       "      <td>363272</td>\n",
       "      <td>7.0000</td>\n",
       "      <td>NaN</td>\n",
       "      <td>S</td>\n",
       "    </tr>\n",
       "    <tr>\n",
       "      <th>2</th>\n",
       "      <td>894</td>\n",
       "      <td>2</td>\n",
       "      <td>Myles, Mr. Thomas Francis</td>\n",
       "      <td>male</td>\n",
       "      <td>62.0</td>\n",
       "      <td>0</td>\n",
       "      <td>0</td>\n",
       "      <td>240276</td>\n",
       "      <td>9.6875</td>\n",
       "      <td>NaN</td>\n",
       "      <td>Q</td>\n",
       "    </tr>\n",
       "    <tr>\n",
       "      <th>3</th>\n",
       "      <td>895</td>\n",
       "      <td>3</td>\n",
       "      <td>Wirz, Mr. Albert</td>\n",
       "      <td>male</td>\n",
       "      <td>27.0</td>\n",
       "      <td>0</td>\n",
       "      <td>0</td>\n",
       "      <td>315154</td>\n",
       "      <td>8.6625</td>\n",
       "      <td>NaN</td>\n",
       "      <td>S</td>\n",
       "    </tr>\n",
       "    <tr>\n",
       "      <th>4</th>\n",
       "      <td>896</td>\n",
       "      <td>3</td>\n",
       "      <td>Hirvonen, Mrs. Alexander (Helga E Lindqvist)</td>\n",
       "      <td>female</td>\n",
       "      <td>22.0</td>\n",
       "      <td>1</td>\n",
       "      <td>1</td>\n",
       "      <td>3101298</td>\n",
       "      <td>12.2875</td>\n",
       "      <td>NaN</td>\n",
       "      <td>S</td>\n",
       "    </tr>\n",
       "  </tbody>\n",
       "</table>\n",
       "</div>"
      ],
      "text/plain": [
       "   PassengerId  Pclass                                          Name     Sex  \\\n",
       "0          892       3                              Kelly, Mr. James    male   \n",
       "1          893       3              Wilkes, Mrs. James (Ellen Needs)  female   \n",
       "2          894       2                     Myles, Mr. Thomas Francis    male   \n",
       "3          895       3                              Wirz, Mr. Albert    male   \n",
       "4          896       3  Hirvonen, Mrs. Alexander (Helga E Lindqvist)  female   \n",
       "\n",
       "    Age  SibSp  Parch   Ticket     Fare Cabin Embarked  \n",
       "0  34.5      0      0   330911   7.8292   NaN        Q  \n",
       "1  47.0      1      0   363272   7.0000   NaN        S  \n",
       "2  62.0      0      0   240276   9.6875   NaN        Q  \n",
       "3  27.0      0      0   315154   8.6625   NaN        S  \n",
       "4  22.0      1      1  3101298  12.2875   NaN        S  "
      ]
     },
     "execution_count": 357,
     "metadata": {},
     "output_type": "execute_result"
    }
   ],
   "source": [
    "test_df.head()"
   ]
  },
  {
   "cell_type": "markdown",
   "id": "b3125907-0d2b-4a05-b3bc-1e9b3d669445",
   "metadata": {},
   "source": [
    "---"
   ]
  },
  {
   "cell_type": "markdown",
   "id": "f70d0fb0-2ed3-4dcb-96c4-3d3464cc36cb",
   "metadata": {},
   "source": [
    "## Exploratory Data Analysis\n",
    "This stage will focus on comprehending the nature and relationships of the features."
   ]
  },
  {
   "cell_type": "code",
   "execution_count": 358,
   "id": "d4a8cbfc-7bf9-4f2a-95ef-fb763f627b19",
   "metadata": {},
   "outputs": [
    {
     "name": "stdout",
     "output_type": "stream",
     "text": [
      "<class 'pandas.core.frame.DataFrame'>\n",
      "RangeIndex: 891 entries, 0 to 890\n",
      "Data columns (total 12 columns):\n",
      " #   Column       Non-Null Count  Dtype  \n",
      "---  ------       --------------  -----  \n",
      " 0   PassengerId  891 non-null    int64  \n",
      " 1   Survived     891 non-null    int64  \n",
      " 2   Pclass       891 non-null    int64  \n",
      " 3   Name         891 non-null    object \n",
      " 4   Sex          891 non-null    object \n",
      " 5   Age          714 non-null    float64\n",
      " 6   SibSp        891 non-null    int64  \n",
      " 7   Parch        891 non-null    int64  \n",
      " 8   Ticket       891 non-null    object \n",
      " 9   Fare         891 non-null    float64\n",
      " 10  Cabin        204 non-null    object \n",
      " 11  Embarked     889 non-null    object \n",
      "dtypes: float64(2), int64(5), object(5)\n",
      "memory usage: 83.7+ KB\n"
     ]
    }
   ],
   "source": [
    "train_df.info()"
   ]
  },
  {
   "cell_type": "code",
   "execution_count": 359,
   "id": "2b2f03ac-b094-4b88-8d0e-216118d71ce7",
   "metadata": {},
   "outputs": [
    {
     "name": "stdout",
     "output_type": "stream",
     "text": [
      "<class 'pandas.core.frame.DataFrame'>\n",
      "RangeIndex: 418 entries, 0 to 417\n",
      "Data columns (total 11 columns):\n",
      " #   Column       Non-Null Count  Dtype  \n",
      "---  ------       --------------  -----  \n",
      " 0   PassengerId  418 non-null    int64  \n",
      " 1   Pclass       418 non-null    int64  \n",
      " 2   Name         418 non-null    object \n",
      " 3   Sex          418 non-null    object \n",
      " 4   Age          332 non-null    float64\n",
      " 5   SibSp        418 non-null    int64  \n",
      " 6   Parch        418 non-null    int64  \n",
      " 7   Ticket       418 non-null    object \n",
      " 8   Fare         417 non-null    float64\n",
      " 9   Cabin        91 non-null     object \n",
      " 10  Embarked     418 non-null    object \n",
      "dtypes: float64(2), int64(4), object(5)\n",
      "memory usage: 36.0+ KB\n"
     ]
    }
   ],
   "source": [
    "test_df.info()"
   ]
  },
  {
   "cell_type": "code",
   "execution_count": 360,
   "id": "908945da-d295-4859-af77-6038bc4c71bb",
   "metadata": {},
   "outputs": [
    {
     "data": {
      "text/plain": [
       "0.31932773109243695"
      ]
     },
     "execution_count": 360,
     "metadata": {},
     "output_type": "execute_result"
    }
   ],
   "source": [
    "len(test_df)/(len(train_df)+len(test_df))"
   ]
  },
  {
   "cell_type": "code",
   "execution_count": 361,
   "id": "4e014fe6-5355-4d40-986a-4feafb16bb3b",
   "metadata": {
    "tags": []
   },
   "outputs": [
    {
     "data": {
      "text/html": [
       "<div>\n",
       "<style scoped>\n",
       "    .dataframe tbody tr th:only-of-type {\n",
       "        vertical-align: middle;\n",
       "    }\n",
       "\n",
       "    .dataframe tbody tr th {\n",
       "        vertical-align: top;\n",
       "    }\n",
       "\n",
       "    .dataframe thead th {\n",
       "        text-align: right;\n",
       "    }\n",
       "</style>\n",
       "<table border=\"1\" class=\"dataframe\">\n",
       "  <thead>\n",
       "    <tr style=\"text-align: right;\">\n",
       "      <th></th>\n",
       "      <th>PassengerId</th>\n",
       "      <th>Survived</th>\n",
       "      <th>Pclass</th>\n",
       "      <th>Age</th>\n",
       "      <th>SibSp</th>\n",
       "      <th>Parch</th>\n",
       "      <th>Fare</th>\n",
       "    </tr>\n",
       "  </thead>\n",
       "  <tbody>\n",
       "    <tr>\n",
       "      <th>count</th>\n",
       "      <td>891.000000</td>\n",
       "      <td>891.000000</td>\n",
       "      <td>891.000000</td>\n",
       "      <td>714.000000</td>\n",
       "      <td>891.000000</td>\n",
       "      <td>891.000000</td>\n",
       "      <td>891.000000</td>\n",
       "    </tr>\n",
       "    <tr>\n",
       "      <th>mean</th>\n",
       "      <td>446.000000</td>\n",
       "      <td>0.383838</td>\n",
       "      <td>2.308642</td>\n",
       "      <td>29.699118</td>\n",
       "      <td>0.523008</td>\n",
       "      <td>0.381594</td>\n",
       "      <td>32.204208</td>\n",
       "    </tr>\n",
       "    <tr>\n",
       "      <th>std</th>\n",
       "      <td>257.353842</td>\n",
       "      <td>0.486592</td>\n",
       "      <td>0.836071</td>\n",
       "      <td>14.526497</td>\n",
       "      <td>1.102743</td>\n",
       "      <td>0.806057</td>\n",
       "      <td>49.693429</td>\n",
       "    </tr>\n",
       "    <tr>\n",
       "      <th>min</th>\n",
       "      <td>1.000000</td>\n",
       "      <td>0.000000</td>\n",
       "      <td>1.000000</td>\n",
       "      <td>0.420000</td>\n",
       "      <td>0.000000</td>\n",
       "      <td>0.000000</td>\n",
       "      <td>0.000000</td>\n",
       "    </tr>\n",
       "    <tr>\n",
       "      <th>25%</th>\n",
       "      <td>223.500000</td>\n",
       "      <td>0.000000</td>\n",
       "      <td>2.000000</td>\n",
       "      <td>20.125000</td>\n",
       "      <td>0.000000</td>\n",
       "      <td>0.000000</td>\n",
       "      <td>7.910400</td>\n",
       "    </tr>\n",
       "    <tr>\n",
       "      <th>50%</th>\n",
       "      <td>446.000000</td>\n",
       "      <td>0.000000</td>\n",
       "      <td>3.000000</td>\n",
       "      <td>28.000000</td>\n",
       "      <td>0.000000</td>\n",
       "      <td>0.000000</td>\n",
       "      <td>14.454200</td>\n",
       "    </tr>\n",
       "    <tr>\n",
       "      <th>75%</th>\n",
       "      <td>668.500000</td>\n",
       "      <td>1.000000</td>\n",
       "      <td>3.000000</td>\n",
       "      <td>38.000000</td>\n",
       "      <td>1.000000</td>\n",
       "      <td>0.000000</td>\n",
       "      <td>31.000000</td>\n",
       "    </tr>\n",
       "    <tr>\n",
       "      <th>max</th>\n",
       "      <td>891.000000</td>\n",
       "      <td>1.000000</td>\n",
       "      <td>3.000000</td>\n",
       "      <td>80.000000</td>\n",
       "      <td>8.000000</td>\n",
       "      <td>6.000000</td>\n",
       "      <td>512.329200</td>\n",
       "    </tr>\n",
       "  </tbody>\n",
       "</table>\n",
       "</div>"
      ],
      "text/plain": [
       "       PassengerId    Survived      Pclass         Age       SibSp  \\\n",
       "count   891.000000  891.000000  891.000000  714.000000  891.000000   \n",
       "mean    446.000000    0.383838    2.308642   29.699118    0.523008   \n",
       "std     257.353842    0.486592    0.836071   14.526497    1.102743   \n",
       "min       1.000000    0.000000    1.000000    0.420000    0.000000   \n",
       "25%     223.500000    0.000000    2.000000   20.125000    0.000000   \n",
       "50%     446.000000    0.000000    3.000000   28.000000    0.000000   \n",
       "75%     668.500000    1.000000    3.000000   38.000000    1.000000   \n",
       "max     891.000000    1.000000    3.000000   80.000000    8.000000   \n",
       "\n",
       "            Parch        Fare  \n",
       "count  891.000000  891.000000  \n",
       "mean     0.381594   32.204208  \n",
       "std      0.806057   49.693429  \n",
       "min      0.000000    0.000000  \n",
       "25%      0.000000    7.910400  \n",
       "50%      0.000000   14.454200  \n",
       "75%      0.000000   31.000000  \n",
       "max      6.000000  512.329200  "
      ]
     },
     "execution_count": 361,
     "metadata": {},
     "output_type": "execute_result"
    }
   ],
   "source": [
    "train_df.describe()"
   ]
  },
  {
   "cell_type": "code",
   "execution_count": 362,
   "id": "ddf98600-9fec-4db9-9a61-ef6b1c6a06e7",
   "metadata": {},
   "outputs": [],
   "source": [
    "#test_df.describe()"
   ]
  },
  {
   "cell_type": "markdown",
   "id": "68621138-69cc-40c3-8732-dd4efed7644d",
   "metadata": {},
   "source": [
    "#### Observations\n",
    "**Distribution**\n",
    "- The train-test is split around 70/30, with testing set representing 31.93% of the combined sets.\n",
    "- The survival rate in context of the training set is at 38.38%, which is representative of the original survival rate of 32.46%, 1502 out of 2224.\n",
    "- Majority (around 75%) of the people didn't aboard with siblings/spouses\n",
    "- The distributions of SibSP and Parch are right skewed, since the means are greater than the medians.\n",
    "**Data Types**\n",
    "- Numerical: *Age, Sibsp, Parch, Fare*\n",
    "- Categorical: *Survival, Sex, Pclass, Embarked*\n",
    "- Mixed/Alphanumeric: *Name, Ticket, Cabin*\n",
    "**Assumptions**\n",
    "- **Continuous vs Nominal.** Children (people belonging to lower age brackets) are more likely to survive.\n",
    "- **Nominal vs Nominal.** Women are more likely to survive than men. \n",
    "- **Ordinal vs Nominal.** The higher-echelon and the wealthier classes are more likely to survive.\n",
    "- **Continuous vs Nominal.** Individuals who travel with larger families have a lower likelihood of surviving.\n",
    "- **Nominal vs Nominal.** Those who are travel alone have a higher chance of surviving.\n",
    "- **Nominal vs Nominal.** Are the individuals' port of embarkation associated with their survival?\n",
    "---"
   ]
  },
  {
   "cell_type": "markdown",
   "id": "1a5e5fe3-52da-444f-bf09-913362526825",
   "metadata": {},
   "source": [
    "## Analyzing the Numerical Features\n",
    "For the numerical variables, the seaborn **pairplot** will be helpful in presenting the pariwise relationships across each numerical variables. The diagonal plots are treated as distribution plots to show the distribution of the features."
   ]
  },
  {
   "cell_type": "code",
   "execution_count": 363,
   "id": "dd1a1ee2-8ead-4d98-8702-f806804b2a42",
   "metadata": {},
   "outputs": [
    {
     "data": {
      "text/plain": [
       "<seaborn.axisgrid.PairGrid at 0x1e7b1e88b20>"
      ]
     },
     "execution_count": 363,
     "metadata": {},
     "output_type": "execute_result"
    },
    {
     "data": {
      "image/png": "[encoded data removed]",
      "text/plain": [
       "<Figure size 771.875x720 with 20 Axes>"
      ]
     },
     "metadata": {
      "needs_background": "light"
     },
     "output_type": "display_data"
    }
   ],
   "source": [
    "# Separate the training set into groups of numerical and categorical variables.\n",
    "# Don't worry, the 'Survived' was only included in the numerical category so we can use it to classify the features when we create the pairplot\n",
    "df_num = train_df[['Age', 'Survived', 'SibSp', 'Parch', 'Fare']]\n",
    "df_cat = train_df[['Survived', 'Pclass', 'Sex', 'Embarked']]\n",
    "\n",
    "# Classify by 'Survived'\n",
    "sns.pairplot(df_num, hue='Survived')"
   ]
  },
  {
   "cell_type": "markdown",
   "id": "2634f325-fae6-43f0-8f97-11c5c06b38b7",
   "metadata": {
    "tags": []
   },
   "source": [
    "**Age**\n",
    "- More normally distributed compared to the rest.\n",
    "- Majority of passengers fall in the 15-35 age bracket.\n",
    "- A large number of 25 yr olds didn't survive.\n",
    "- Infants (age<4) had a higher survival rate.\n",
    "- The oldest individual (age=80) survived.\n",
    "\n",
    "**SibSp.**\n",
    "- Skewed to the right.\n",
    "- Those with 1-2 siblings/spouses were likely to survive.\n",
    "- Large number of passengers didn't have siblings/spouses with them.\n",
    "- An outlier, with over 8 siblings/spouses, didn't survive.\n",
    "\n",
    "**Parch.**\n",
    "- Skewed to the right.\n",
    "- Large number of passengers didn't have parents/children with them.\n",
    "- Passengers without parents and children with them were more likely to die.\n",
    "\n",
    "**Fare.**\n",
    "- Skewed to the right.\n",
    "- Majority of the passengers aboarded with cheaper fares.\n",
    "- Most passengers with cheaper fares (<50) didn't survive, while those who paid higher fares (>300) tend to survive."
   ]
  },
  {
   "cell_type": "code",
   "execution_count": 364,
   "id": "2d6ee700-610e-4176-a244-238ec0d86ea9",
   "metadata": {},
   "outputs": [
    {
     "data": {
      "text/plain": [
       "<AxesSubplot:>"
      ]
     },
     "execution_count": 364,
     "metadata": {},
     "output_type": "execute_result"
    },
    {
     "data": {
      "image/png": "[encoded data removed]",
      "text/plain": [
       "<Figure size 432x288 with 2 Axes>"
      ]
     },
     "metadata": {
      "needs_background": "light"
     },
     "output_type": "display_data"
    }
   ],
   "source": [
    "## Correlation Matrix\n",
    "sns.heatmap(df_num.corr(), cmap='Blues', annot=True)"
   ]
  },
  {
   "cell_type": "markdown",
   "id": "65019977-1aa7-497b-ba98-e1d2c3ea89e4",
   "metadata": {
    "jp-MarkdownHeadingCollapsed": true,
    "tags": []
   },
   "source": [
    "#### Observations\n",
    "- Parch and SibSp features a positively moderate correlation.\n",
    "- Parch and Fare has a positively weak correlation.\n",
    "- We noticed that 'Age' has a very weak correlation with our solution goal despite following a normal distribution.\n",
    "\n",
    "#### Decisions\n",
    "- We can try normalizing the skewed distributions of 'SibSp', 'Parch', and 'Fare' to see if it improves the correlations."
   ]
  },
  {
   "cell_type": "markdown",
   "id": "88353e41-a5f7-4c4a-bae5-7c959d439e94",
   "metadata": {},
   "source": [
    "### Normalizing the Numerical Features Distributions\n",
    "The **probability plot** or **quantile-quntile plot (QQplot)** allows us to plot our sample data against the quantiles of a normal distribution. This will serve as reference to see how our subsequent data transformations react to the curve, and enable us to select the best form of transformation which resulted to the best fit.\n",
    "\n",
    "We can try use the following data transformation techniques:\n",
    "- Square Root\n",
    "- Cube Root\n",
    "- Logarithmic. **Log(x+1)** wil ensure the log transformation won't result in undefined values.\n",
    "> *Reciprocal Transformation* can't be used because our data contain 'zero' values, which would result in undefined values."
   ]
  },
  {
   "cell_type": "code",
   "execution_count": 365,
   "id": "4c4c566d-6069-4fa9-8a33-1a65e485c1ba",
   "metadata": {},
   "outputs": [],
   "source": [
    "import scipy.stats as stats\n",
    "\n",
    "# Defining the function to generate the distribution plot alongside QQplot\n",
    "def QQplot(df, col):\n",
    "    plt.figure(figsize = (9, 3))\n",
    "    plt.subplot(1,2,1)\n",
    "    sns.histplot(df[col].dropna(), kde=True)\n",
    "    \n",
    "    plt.subplot(1,2,2)\n",
    "    stats.probplot(df[col].dropna(), dist=\"norm\", plot=plt)"
   ]
  },
  {
   "cell_type": "markdown",
   "id": "ee5867c2-9b01-4068-b3b6-eca29fef5b3d",
   "metadata": {},
   "source": [
    "#### Normalizing Age"
   ]
  },
  {
   "cell_type": "code",
   "execution_count": 366,
   "id": "7ad6287e-e1d4-4e12-af49-044f51581de7",
   "metadata": {},
   "outputs": [
    {
     "data": {
      "image/png": "[encoded data removed]",
      "text/plain": [
       "<Figure size 648x216 with 2 Axes>"
      ]
     },
     "metadata": {
      "needs_background": "light"
     },
     "output_type": "display_data"
    }
   ],
   "source": [
    "df_num = train_df[['Age', 'SibSp', 'Parch', 'Fare']]\n",
    "QQplot(df_num, 'Age')"
   ]
  },
  {
   "cell_type": "markdown",
   "id": "08a9e1eb-9b5d-4f3e-993d-604bc47c2b0d",
   "metadata": {},
   "source": [
    "#### Normalizing SibSp"
   ]
  },
  {
   "cell_type": "code",
   "execution_count": 367,
   "id": "001a64d1-a30f-498c-868c-e3bc8a628e89",
   "metadata": {},
   "outputs": [
    {
     "data": {
      "image/png": "[encoded data removed]",
      "text/plain": [
       "<Figure size 648x216 with 2 Axes>"
      ]
     },
     "metadata": {
      "needs_background": "light"
     },
     "output_type": "display_data"
    }
   ],
   "source": [
    "QQplot(df_num, 'SibSp')"
   ]
  },
  {
   "cell_type": "code",
   "execution_count": 368,
   "id": "6aaa0dea-7e01-4bc9-a3d8-cf5bcbc49018",
   "metadata": {},
   "outputs": [
    {
     "name": "stderr",
     "output_type": "stream",
     "text": [
      "C:\\Users\\NAUT1S~1\\AppData\\Local\\Temp/ipykernel_4380/1686086859.py:2: SettingWithCopyWarning: \n",
      "A value is trying to be set on a copy of a slice from a DataFrame.\n",
      "Try using .loc[row_indexer,col_indexer] = value instead\n",
      "\n",
      "See the caveats in the documentation: https://pandas.pydata.org/pandas-docs/stable/user_guide/indexing.html#returning-a-view-versus-a-copy\n",
      "  df_num[\"SibSp_sqrt\"] = df_num['SibSp']**(1./2)\n",
      "C:\\Users\\NAUT1S~1\\AppData\\Local\\Temp/ipykernel_4380/1686086859.py:5: SettingWithCopyWarning: \n",
      "A value is trying to be set on a copy of a slice from a DataFrame.\n",
      "Try using .loc[row_indexer,col_indexer] = value instead\n",
      "\n",
      "See the caveats in the documentation: https://pandas.pydata.org/pandas-docs/stable/user_guide/indexing.html#returning-a-view-versus-a-copy\n",
      "  df_num[\"SibSp_cbrt\"] = df_num['SibSp']**(1./3)\n",
      "C:\\Users\\NAUT1S~1\\AppData\\Local\\Temp/ipykernel_4380/1686086859.py:8: SettingWithCopyWarning: \n",
      "A value is trying to be set on a copy of a slice from a DataFrame.\n",
      "Try using .loc[row_indexer,col_indexer] = value instead\n",
      "\n",
      "See the caveats in the documentation: https://pandas.pydata.org/pandas-docs/stable/user_guide/indexing.html#returning-a-view-versus-a-copy\n",
      "  df_num[\"SibSp_log(x+1)\"] = np.log(df_num['SibSp'] + 1)\n"
     ]
    },
    {
     "data": {
      "image/png": "[encoded data removed]",
      "text/plain": [
       "<Figure size 648x216 with 2 Axes>"
      ]
     },
     "metadata": {
      "needs_background": "light"
     },
     "output_type": "display_data"
    },
    {
     "data": {
      "image/png": "[encoded data removed]",
      "text/plain": [
       "<Figure size 648x216 with 2 Axes>"
      ]
     },
     "metadata": {
      "needs_background": "light"
     },
     "output_type": "display_data"
    },
    {
     "data": {
      "image/png": "[encoded data removed]",
      "text/plain": [
       "<Figure size 648x216 with 2 Axes>"
      ]
     },
     "metadata": {
      "needs_background": "light"
     },
     "output_type": "display_data"
    }
   ],
   "source": [
    "# Perform data transformations and generate QQplots\n",
    "df_num[\"SibSp_sqrt\"] = df_num['SibSp']**(1./2)\n",
    "QQplot(df_num, 'SibSp_sqrt')\n",
    "\n",
    "df_num[\"SibSp_cbrt\"] = df_num['SibSp']**(1./3)\n",
    "QQplot(df_num, 'SibSp_cbrt')\n",
    "\n",
    "df_num[\"SibSp_log(x+1)\"] = np.log(df_num['SibSp'] + 1)\n",
    "QQplot(df_num, 'SibSp_log(x+1)')\n",
    "\n",
    "# df_num[\"SibSp_YeoJohn\"] = stats.yeojohnson(df_num['SibSp'])\n",
    "# QQplot(df_num, 'SibSp_YeoJohn')"
   ]
  },
  {
   "cell_type": "markdown",
   "id": "ab330422-83c5-4c54-ac38-502b8dbf125a",
   "metadata": {},
   "source": [
    "#### Normalizing Parch"
   ]
  },
  {
   "cell_type": "code",
   "execution_count": 369,
   "id": "cc4c6808-8523-42df-a859-6e3744859e02",
   "metadata": {},
   "outputs": [
    {
     "data": {
      "image/png": "[encoded data removed]",
      "text/plain": [
       "<Figure size 648x216 with 2 Axes>"
      ]
     },
     "metadata": {
      "needs_background": "light"
     },
     "output_type": "display_data"
    }
   ],
   "source": [
    "QQplot(df_num, 'Parch')"
   ]
  },
  {
   "cell_type": "code",
   "execution_count": 370,
   "id": "8a0e5c3f-498f-42e7-9805-b0d751dc04a8",
   "metadata": {},
   "outputs": [
    {
     "name": "stderr",
     "output_type": "stream",
     "text": [
      "C:\\Users\\NAUT1S~1\\AppData\\Local\\Temp/ipykernel_4380/3126844561.py:2: SettingWithCopyWarning: \n",
      "A value is trying to be set on a copy of a slice from a DataFrame.\n",
      "Try using .loc[row_indexer,col_indexer] = value instead\n",
      "\n",
      "See the caveats in the documentation: https://pandas.pydata.org/pandas-docs/stable/user_guide/indexing.html#returning-a-view-versus-a-copy\n",
      "  df_num[\"Parch_sqrt\"] = df_num['Parch']**(1./2)\n",
      "C:\\Users\\NAUT1S~1\\AppData\\Local\\Temp/ipykernel_4380/3126844561.py:5: SettingWithCopyWarning: \n",
      "A value is trying to be set on a copy of a slice from a DataFrame.\n",
      "Try using .loc[row_indexer,col_indexer] = value instead\n",
      "\n",
      "See the caveats in the documentation: https://pandas.pydata.org/pandas-docs/stable/user_guide/indexing.html#returning-a-view-versus-a-copy\n",
      "  df_num[\"Parch_cbrt\"] = df_num['Parch']**(1./3)\n",
      "C:\\Users\\NAUT1S~1\\AppData\\Local\\Temp/ipykernel_4380/3126844561.py:8: SettingWithCopyWarning: \n",
      "A value is trying to be set on a copy of a slice from a DataFrame.\n",
      "Try using .loc[row_indexer,col_indexer] = value instead\n",
      "\n",
      "See the caveats in the documentation: https://pandas.pydata.org/pandas-docs/stable/user_guide/indexing.html#returning-a-view-versus-a-copy\n",
      "  df_num[\"Parch_log(x+1)\"] = np.log(df_num['Parch'] + 1)\n"
     ]
    },
    {
     "data": {
      "image/png": "[encoded data removed]",
      "text/plain": [
       "<Figure size 648x216 with 2 Axes>"
      ]
     },
     "metadata": {
      "needs_background": "light"
     },
     "output_type": "display_data"
    },
    {
     "data": {
      "image/png": "[encoded data removed]",
      "text/plain": [
       "<Figure size 648x216 with 2 Axes>"
      ]
     },
     "metadata": {
      "needs_background": "light"
     },
     "output_type": "display_data"
    },
    {
     "data": {
      "image/png": "[encoded data removed]",
      "text/plain": [
       "<Figure size 648x216 with 2 Axes>"
      ]
     },
     "metadata": {
      "needs_background": "light"
     },
     "output_type": "display_data"
    }
   ],
   "source": [
    "# Perform data transformations and generate QQplots\n",
    "df_num[\"Parch_sqrt\"] = df_num['Parch']**(1./2)\n",
    "QQplot(df_num, 'Parch_sqrt')\n",
    "\n",
    "df_num[\"Parch_cbrt\"] = df_num['Parch']**(1./3)\n",
    "QQplot(df_num, 'Parch_cbrt')\n",
    "\n",
    "df_num[\"Parch_log(x+1)\"] = np.log(df_num['Parch'] + 1)\n",
    "QQplot(df_num, 'Parch_log(x+1)')"
   ]
  },
  {
   "cell_type": "markdown",
   "id": "104743b8-9b4d-4cf4-8697-51f83f7f0200",
   "metadata": {},
   "source": [
    "#### Normalizing Fare"
   ]
  },
  {
   "cell_type": "code",
   "execution_count": 371,
   "id": "96ff2933-387e-4b32-8de3-219e38f9a4cb",
   "metadata": {},
   "outputs": [
    {
     "data": {
      "image/png": "[encoded data removed]",
      "text/plain": [
       "<Figure size 648x216 with 2 Axes>"
      ]
     },
     "metadata": {
      "needs_background": "light"
     },
     "output_type": "display_data"
    }
   ],
   "source": [
    "QQplot(df_num, 'Fare')"
   ]
  },
  {
   "cell_type": "code",
   "execution_count": 372,
   "id": "4dd12995-7f11-4796-be59-d7bb0d16cdc3",
   "metadata": {},
   "outputs": [
    {
     "name": "stderr",
     "output_type": "stream",
     "text": [
      "C:\\Users\\NAUT1S~1\\AppData\\Local\\Temp/ipykernel_4380/1441105713.py:2: SettingWithCopyWarning: \n",
      "A value is trying to be set on a copy of a slice from a DataFrame.\n",
      "Try using .loc[row_indexer,col_indexer] = value instead\n",
      "\n",
      "See the caveats in the documentation: https://pandas.pydata.org/pandas-docs/stable/user_guide/indexing.html#returning-a-view-versus-a-copy\n",
      "  df_num[\"Fare_sqrt\"] = df_num['Fare']**(1./2)\n"
     ]
    },
    {
     "data": {
      "image/png": "[encoded data removed]",
      "text/plain": [
       "<Figure size 648x216 with 2 Axes>"
      ]
     },
     "metadata": {
      "needs_background": "light"
     },
     "output_type": "display_data"
    },
    {
     "data": {
      "image/png": "[encoded data removed]",
      "text/plain": [
       "<Figure size 648x216 with 2 Axes>"
      ]
     },
     "metadata": {
      "needs_background": "light"
     },
     "output_type": "display_data"
    },
    {
     "data": {
      "image/png": "[encoded data removed]",
      "text/plain": [
       "<Figure size 648x216 with 2 Axes>"
      ]
     },
     "metadata": {
      "needs_background": "light"
     },
     "output_type": "display_data"
    }
   ],
   "source": [
    "# Perform data transformations and generate QQplots\n",
    "df_num[\"Fare_sqrt\"] = df_num['Fare']**(1./2)\n",
    "QQplot(df_num, 'Fare_sqrt')\n",
    "\n",
    "df_num[\"Fare_cbrt\"] = df_num['Fare']**(1./3)\n",
    "QQplot(df_num, 'Fare_cbrt')\n",
    "\n",
    "df_num[\"Fare_log(x+1)\"] = np.log(df_num['Fare'] + 1)\n",
    "QQplot(df_num, 'Fare_log(x+1)')"
   ]
  },
  {
   "cell_type": "markdown",
   "id": "8507cfff-ea05-43f1-805d-3466aead3a4c",
   "metadata": {
    "tags": []
   },
   "source": [
    "#### Observations\n",
    "- **Age.** Normally distributed. No need to transform.\n",
    "- **SibSp.** Still highly skewed. \n",
    "- **Parch.** Still highly skewed.\n",
    "- **Fare.** The log(x+1) transformation yielded the best fit.\n",
    "\n",
    "#### Decisions\n",
    "- Peform log(x+1) transformation on 'Fare' feature.\n",
    "- Create a new 'Family' feature which combines the numbers in 'SibSp' and 'Parch'.\n",
    "- Assess if 'Family' is normally distributed and correlated with the solution goal."
   ]
  },
  {
   "cell_type": "markdown",
   "id": "af9543bf-da4c-40b1-9cbd-e29aa656c56f",
   "metadata": {},
   "source": [
    "### Creating ''Family' Feature"
   ]
  },
  {
   "cell_type": "code",
   "execution_count": 373,
   "id": "28b8cf14-60f3-48d4-b0ed-92e37aee6a73",
   "metadata": {},
   "outputs": [
    {
     "name": "stderr",
     "output_type": "stream",
     "text": [
      "C:\\Users\\NAUT1S~1\\AppData\\Local\\Temp/ipykernel_4380/1073211787.py:2: SettingWithCopyWarning: \n",
      "A value is trying to be set on a copy of a slice from a DataFrame.\n",
      "Try using .loc[row_indexer,col_indexer] = value instead\n",
      "\n",
      "See the caveats in the documentation: https://pandas.pydata.org/pandas-docs/stable/user_guide/indexing.html#returning-a-view-versus-a-copy\n",
      "  df_num['Family'] = df_num['SibSp'] + df_num['Parch']\n"
     ]
    },
    {
     "data": {
      "text/html": [
       "<div>\n",
       "<style scoped>\n",
       "    .dataframe tbody tr th:only-of-type {\n",
       "        vertical-align: middle;\n",
       "    }\n",
       "\n",
       "    .dataframe tbody tr th {\n",
       "        vertical-align: top;\n",
       "    }\n",
       "\n",
       "    .dataframe thead th {\n",
       "        text-align: right;\n",
       "    }\n",
       "</style>\n",
       "<table border=\"1\" class=\"dataframe\">\n",
       "  <thead>\n",
       "    <tr style=\"text-align: right;\">\n",
       "      <th></th>\n",
       "      <th>Age</th>\n",
       "      <th>Survived</th>\n",
       "      <th>SibSp</th>\n",
       "      <th>Parch</th>\n",
       "      <th>Fare</th>\n",
       "      <th>Family</th>\n",
       "    </tr>\n",
       "  </thead>\n",
       "  <tbody>\n",
       "    <tr>\n",
       "      <th>0</th>\n",
       "      <td>22.0</td>\n",
       "      <td>0</td>\n",
       "      <td>1</td>\n",
       "      <td>0</td>\n",
       "      <td>7.2500</td>\n",
       "      <td>1</td>\n",
       "    </tr>\n",
       "    <tr>\n",
       "      <th>1</th>\n",
       "      <td>38.0</td>\n",
       "      <td>1</td>\n",
       "      <td>1</td>\n",
       "      <td>0</td>\n",
       "      <td>71.2833</td>\n",
       "      <td>1</td>\n",
       "    </tr>\n",
       "    <tr>\n",
       "      <th>2</th>\n",
       "      <td>26.0</td>\n",
       "      <td>1</td>\n",
       "      <td>0</td>\n",
       "      <td>0</td>\n",
       "      <td>7.9250</td>\n",
       "      <td>0</td>\n",
       "    </tr>\n",
       "    <tr>\n",
       "      <th>3</th>\n",
       "      <td>35.0</td>\n",
       "      <td>1</td>\n",
       "      <td>1</td>\n",
       "      <td>0</td>\n",
       "      <td>53.1000</td>\n",
       "      <td>1</td>\n",
       "    </tr>\n",
       "    <tr>\n",
       "      <th>4</th>\n",
       "      <td>35.0</td>\n",
       "      <td>0</td>\n",
       "      <td>0</td>\n",
       "      <td>0</td>\n",
       "      <td>8.0500</td>\n",
       "      <td>0</td>\n",
       "    </tr>\n",
       "  </tbody>\n",
       "</table>\n",
       "</div>"
      ],
      "text/plain": [
       "    Age  Survived  SibSp  Parch     Fare  Family\n",
       "0  22.0         0      1      0   7.2500       1\n",
       "1  38.0         1      1      0  71.2833       1\n",
       "2  26.0         1      0      0   7.9250       0\n",
       "3  35.0         1      1      0  53.1000       1\n",
       "4  35.0         0      0      0   8.0500       0"
      ]
     },
     "execution_count": 373,
     "metadata": {},
     "output_type": "execute_result"
    }
   ],
   "source": [
    "df_num = train_df[['Age', 'Survived', 'SibSp', 'Parch', 'Fare']]\n",
    "df_num['Family'] = df_num['SibSp'] + df_num['Parch']\n",
    "df_num.head()"
   ]
  },
  {
   "cell_type": "code",
   "execution_count": 374,
   "id": "19fed455-c8a3-4573-acc3-7b39614a77bf",
   "metadata": {},
   "outputs": [
    {
     "data": {
      "image/png": "[encoded data removed]",
      "text/plain": [
       "<Figure size 648x216 with 2 Axes>"
      ]
     },
     "metadata": {
      "needs_background": "light"
     },
     "output_type": "display_data"
    }
   ],
   "source": [
    "QQplot(df_num, 'Family')"
   ]
  },
  {
   "cell_type": "code",
   "execution_count": 375,
   "id": "1cc9d095-be6e-4f7a-b18f-abf611061e64",
   "metadata": {},
   "outputs": [],
   "source": [
    "# # Perform data transformations and generate QQplots\n",
    "# df_num[\"Family_sqrt\"] = df_num['Family']**(1./2)\n",
    "# QQplot(df_num, 'Family_sqrt')\n",
    "\n",
    "# df_num[\"Family_cbrt\"] = df_num['Family']**(1./3)\n",
    "# QQplot(df_num, 'Family_cbrt')\n",
    "\n",
    "# df_num[\"Family_log(x+1)\"] = np.log(df_num['Family'] + 1)\n",
    "# QQplot(df_num, 'Family_log(x+1)')"
   ]
  },
  {
   "cell_type": "code",
   "execution_count": 376,
   "id": "f2bf3377-49fe-48a8-81d7-f057a1a56483",
   "metadata": {},
   "outputs": [
    {
     "data": {
      "text/plain": [
       "<AxesSubplot:>"
      ]
     },
     "execution_count": 376,
     "metadata": {},
     "output_type": "execute_result"
    },
    {
     "data": {
      "image/png": "[encoded data removed]",
      "text/plain": [
       "<Figure size 432x288 with 2 Axes>"
      ]
     },
     "metadata": {
      "needs_background": "light"
     },
     "output_type": "display_data"
    }
   ],
   "source": [
    "## Correlation Matrix\n",
    "sns.heatmap(df_num.corr(), cmap='Blues', annot=True)"
   ]
  },
  {
   "cell_type": "markdown",
   "id": "dc96ccd8-a128-4737-bf8f-568cac5cfbed",
   "metadata": {},
   "source": [
    "#### Observations\n",
    "- After transforming the 'Fare' feature, its correlation with solution goal improved from 0.26 to 0.33.\n",
    "- It appears that the 'Family' feature didn't improve the correlation.\n",
    "- 'Age' has a very underwhelming correlation with the solution goal, only at -0..07.\n",
    "\n",
    "#### Decisions\n",
    "- Let's create a new categorical feature called 'withFamily' based on 'Family' where we set values to (0 = without family) and (1 = with family). Validate the correlation\n",
    "- We can drop the 'SibSp' and 'Parch' features as they are no longer relevant.\n",
    "- Complete the missing values in 'Age'. Validate the correlation."
   ]
  },
  {
   "cell_type": "markdown",
   "id": "7266a3af-d1c0-4104-b37b-bf9eef10edad",
   "metadata": {},
   "source": [
    "### Completing Missing Values in 'Age'\n",
    "- The null values comprise around 20% of the sample, so it is more appropriate to perform imputations than removing them.\n",
    "- Let's impute the missing values by getting the mean of the current 'Age' dataset since we know that the data is normally distributed."
   ]
  },
  {
   "cell_type": "code",
   "execution_count": 377,
   "id": "734e74c0-365c-4805-b5bc-0d7a55fffcf6",
   "metadata": {},
   "outputs": [
    {
     "data": {
      "image/png": "[encoded data removed]",
      "text/plain": [
       "<Figure size 648x216 with 2 Axes>"
      ]
     },
     "metadata": {
      "needs_background": "light"
     },
     "output_type": "display_data"
    }
   ],
   "source": [
    "Age_mean = df_num['Age'].mean()\n",
    "\n",
    "df_num['Age'].fillna(Age_mean)\n",
    "QQplot(df_num, 'Age')"
   ]
  },
  {
   "cell_type": "markdown",
   "id": "48ffae56-53cb-430a-97da-b0be6dce2246",
   "metadata": {},
   "source": [
    "### Converting 'Age' into 'AgeGroup'"
   ]
  },
  {
   "cell_type": "code",
   "execution_count": 378,
   "id": "858d9b8d-977f-4063-be7a-6723a055b1d2",
   "metadata": {},
   "outputs": [
    {
     "name": "stderr",
     "output_type": "stream",
     "text": [
      "C:\\Users\\NAUT1S~1\\AppData\\Local\\Temp/ipykernel_4380/1937231321.py:1: SettingWithCopyWarning: \n",
      "A value is trying to be set on a copy of a slice from a DataFrame.\n",
      "Try using .loc[row_indexer,col_indexer] = value instead\n",
      "\n",
      "See the caveats in the documentation: https://pandas.pydata.org/pandas-docs/stable/user_guide/indexing.html#returning-a-view-versus-a-copy\n",
      "  df_num['AgeGroup'] = pd.cut(df_num['Age'], 5)\n"
     ]
    },
    {
     "data": {
      "text/html": [
       "<div>\n",
       "<style scoped>\n",
       "    .dataframe tbody tr th:only-of-type {\n",
       "        vertical-align: middle;\n",
       "    }\n",
       "\n",
       "    .dataframe tbody tr th {\n",
       "        vertical-align: top;\n",
       "    }\n",
       "\n",
       "    .dataframe thead th {\n",
       "        text-align: right;\n",
       "    }\n",
       "</style>\n",
       "<table border=\"1\" class=\"dataframe\">\n",
       "  <thead>\n",
       "    <tr style=\"text-align: right;\">\n",
       "      <th></th>\n",
       "      <th>AgeGroup</th>\n",
       "      <th>Survived</th>\n",
       "    </tr>\n",
       "  </thead>\n",
       "  <tbody>\n",
       "    <tr>\n",
       "      <th>0</th>\n",
       "      <td>(0.34, 16.336]</td>\n",
       "      <td>0.550000</td>\n",
       "    </tr>\n",
       "    <tr>\n",
       "      <th>1</th>\n",
       "      <td>(16.336, 32.252]</td>\n",
       "      <td>0.369942</td>\n",
       "    </tr>\n",
       "    <tr>\n",
       "      <th>2</th>\n",
       "      <td>(32.252, 48.168]</td>\n",
       "      <td>0.404255</td>\n",
       "    </tr>\n",
       "    <tr>\n",
       "      <th>3</th>\n",
       "      <td>(48.168, 64.084]</td>\n",
       "      <td>0.434783</td>\n",
       "    </tr>\n",
       "    <tr>\n",
       "      <th>4</th>\n",
       "      <td>(64.084, 80.0]</td>\n",
       "      <td>0.090909</td>\n",
       "    </tr>\n",
       "  </tbody>\n",
       "</table>\n",
       "</div>"
      ],
      "text/plain": [
       "           AgeGroup  Survived\n",
       "0    (0.34, 16.336]  0.550000\n",
       "1  (16.336, 32.252]  0.369942\n",
       "2  (32.252, 48.168]  0.404255\n",
       "3  (48.168, 64.084]  0.434783\n",
       "4    (64.084, 80.0]  0.090909"
      ]
     },
     "execution_count": 378,
     "metadata": {},
     "output_type": "execute_result"
    }
   ],
   "source": [
    "df_num['AgeGroup'] = pd.cut(df_num['Age'], 5)\n",
    "df_num[['AgeGroup', 'Survived']].groupby(['AgeGroup'], as_index=False).mean()"
   ]
  },
  {
   "cell_type": "markdown",
   "id": "fb5191e8-6c76-415e-ba82-f89779efd784",
   "metadata": {},
   "source": [
    "> Let's now treat 'AgeGroup' as a categorical variable, and validate its correlation."
   ]
  },
  {
   "cell_type": "code",
   "execution_count": 379,
   "id": "6a6811be-6f5a-4a68-a876-fd8fd36e1c33",
   "metadata": {},
   "outputs": [],
   "source": [
    "# df_num['Age'].where(df_num['Age'] <= 16, 0)\n",
    "# df_num['Age'].where((df_num['Age'] > 16) & (df_num['Age'] <= 32), 1)\n",
    "# df_num['Age'].where((df_num['Age'] > 32) & (df_num['Age'] <= 48), 2)\n",
    "# df_num['Age'].where((df_num['Age'] > 48) & (df_num['Age'] <= 64), 3)\n",
    "# df_num['Age'].where((df_num['Age'] > 64), 4)\n",
    "\n",
    "# df_num"
   ]
  },
  {
   "cell_type": "markdown",
   "id": "bc55935b-6c83-4eac-abae-25b297b3edfc",
   "metadata": {
    "tags": []
   },
   "source": [
    "### Creating Categorical 'withFamily' Feature"
   ]
  },
  {
   "cell_type": "code",
   "execution_count": 380,
   "id": "a07ea22a-d31a-4e37-a67c-c3fb335031f7",
   "metadata": {},
   "outputs": [
    {
     "data": {
      "text/html": [
       "<div>\n",
       "<style scoped>\n",
       "    .dataframe tbody tr th:only-of-type {\n",
       "        vertical-align: middle;\n",
       "    }\n",
       "\n",
       "    .dataframe tbody tr th {\n",
       "        vertical-align: top;\n",
       "    }\n",
       "\n",
       "    .dataframe thead th {\n",
       "        text-align: right;\n",
       "    }\n",
       "</style>\n",
       "<table border=\"1\" class=\"dataframe\">\n",
       "  <thead>\n",
       "    <tr style=\"text-align: right;\">\n",
       "      <th></th>\n",
       "      <th>PassengerId</th>\n",
       "      <th>Survived</th>\n",
       "      <th>Pclass</th>\n",
       "      <th>Age</th>\n",
       "      <th>SibSp</th>\n",
       "      <th>Parch</th>\n",
       "      <th>Fare</th>\n",
       "      <th>Family</th>\n",
       "      <th>withFamily</th>\n",
       "    </tr>\n",
       "  </thead>\n",
       "  <tbody>\n",
       "    <tr>\n",
       "      <th>count</th>\n",
       "      <td>891.000000</td>\n",
       "      <td>891.000000</td>\n",
       "      <td>891.000000</td>\n",
       "      <td>714.000000</td>\n",
       "      <td>891.000000</td>\n",
       "      <td>891.000000</td>\n",
       "      <td>891.000000</td>\n",
       "      <td>891.000000</td>\n",
       "      <td>891.000000</td>\n",
       "    </tr>\n",
       "    <tr>\n",
       "      <th>mean</th>\n",
       "      <td>446.000000</td>\n",
       "      <td>0.383838</td>\n",
       "      <td>2.308642</td>\n",
       "      <td>29.699118</td>\n",
       "      <td>0.523008</td>\n",
       "      <td>0.381594</td>\n",
       "      <td>32.204208</td>\n",
       "      <td>0.904602</td>\n",
       "      <td>0.397306</td>\n",
       "    </tr>\n",
       "    <tr>\n",
       "      <th>std</th>\n",
       "      <td>257.353842</td>\n",
       "      <td>0.486592</td>\n",
       "      <td>0.836071</td>\n",
       "      <td>14.526497</td>\n",
       "      <td>1.102743</td>\n",
       "      <td>0.806057</td>\n",
       "      <td>49.693429</td>\n",
       "      <td>1.613459</td>\n",
       "      <td>0.489615</td>\n",
       "    </tr>\n",
       "    <tr>\n",
       "      <th>min</th>\n",
       "      <td>1.000000</td>\n",
       "      <td>0.000000</td>\n",
       "      <td>1.000000</td>\n",
       "      <td>0.420000</td>\n",
       "      <td>0.000000</td>\n",
       "      <td>0.000000</td>\n",
       "      <td>0.000000</td>\n",
       "      <td>0.000000</td>\n",
       "      <td>0.000000</td>\n",
       "    </tr>\n",
       "    <tr>\n",
       "      <th>25%</th>\n",
       "      <td>223.500000</td>\n",
       "      <td>0.000000</td>\n",
       "      <td>2.000000</td>\n",
       "      <td>20.125000</td>\n",
       "      <td>0.000000</td>\n",
       "      <td>0.000000</td>\n",
       "      <td>7.910400</td>\n",
       "      <td>0.000000</td>\n",
       "      <td>0.000000</td>\n",
       "    </tr>\n",
       "    <tr>\n",
       "      <th>50%</th>\n",
       "      <td>446.000000</td>\n",
       "      <td>0.000000</td>\n",
       "      <td>3.000000</td>\n",
       "      <td>28.000000</td>\n",
       "      <td>0.000000</td>\n",
       "      <td>0.000000</td>\n",
       "      <td>14.454200</td>\n",
       "      <td>0.000000</td>\n",
       "      <td>0.000000</td>\n",
       "    </tr>\n",
       "    <tr>\n",
       "      <th>75%</th>\n",
       "      <td>668.500000</td>\n",
       "      <td>1.000000</td>\n",
       "      <td>3.000000</td>\n",
       "      <td>38.000000</td>\n",
       "      <td>1.000000</td>\n",
       "      <td>0.000000</td>\n",
       "      <td>31.000000</td>\n",
       "      <td>1.000000</td>\n",
       "      <td>1.000000</td>\n",
       "    </tr>\n",
       "    <tr>\n",
       "      <th>max</th>\n",
       "      <td>891.000000</td>\n",
       "      <td>1.000000</td>\n",
       "      <td>3.000000</td>\n",
       "      <td>80.000000</td>\n",
       "      <td>8.000000</td>\n",
       "      <td>6.000000</td>\n",
       "      <td>512.329200</td>\n",
       "      <td>10.000000</td>\n",
       "      <td>1.000000</td>\n",
       "    </tr>\n",
       "  </tbody>\n",
       "</table>\n",
       "</div>"
      ],
      "text/plain": [
       "       PassengerId    Survived      Pclass         Age       SibSp  \\\n",
       "count   891.000000  891.000000  891.000000  714.000000  891.000000   \n",
       "mean    446.000000    0.383838    2.308642   29.699118    0.523008   \n",
       "std     257.353842    0.486592    0.836071   14.526497    1.102743   \n",
       "min       1.000000    0.000000    1.000000    0.420000    0.000000   \n",
       "25%     223.500000    0.000000    2.000000   20.125000    0.000000   \n",
       "50%     446.000000    0.000000    3.000000   28.000000    0.000000   \n",
       "75%     668.500000    1.000000    3.000000   38.000000    1.000000   \n",
       "max     891.000000    1.000000    3.000000   80.000000    8.000000   \n",
       "\n",
       "            Parch        Fare      Family  withFamily  \n",
       "count  891.000000  891.000000  891.000000  891.000000  \n",
       "mean     0.381594   32.204208    0.904602    0.397306  \n",
       "std      0.806057   49.693429    1.613459    0.489615  \n",
       "min      0.000000    0.000000    0.000000    0.000000  \n",
       "25%      0.000000    7.910400    0.000000    0.000000  \n",
       "50%      0.000000   14.454200    0.000000    0.000000  \n",
       "75%      0.000000   31.000000    1.000000    1.000000  \n",
       "max      6.000000  512.329200   10.000000    1.000000  "
      ]
     },
     "execution_count": 380,
     "metadata": {},
     "output_type": "execute_result"
    }
   ],
   "source": [
    "for dataset in df:\n",
    "    \n",
    "    # Create 'withFamily' feature\n",
    "    dataset['Family'] = dataset['SibSp'] + dataset['Parch']\n",
    "    dataset['withFamily'] = 0\n",
    "    dataset.loc[dataset['Family'] >= 1, 'withFamily'] = 1\n",
    "    \n",
    "    # Drop 'SibSp' and 'Parch' features\n",
    "    \n",
    "train_df.describe()"
   ]
  },
  {
   "cell_type": "code",
   "execution_count": 381,
   "id": "4d9f49b6-0deb-4bcb-afe8-4202784e68a8",
   "metadata": {},
   "outputs": [],
   "source": [
    "df_cat = train_df[['Survived', 'Pclass', 'Sex', 'Embarked', 'withFamily']]"
   ]
  },
  {
   "cell_type": "markdown",
   "id": "b9ed9203-8032-45a0-ab0c-feab62ac682e",
   "metadata": {},
   "source": [
    "---\n",
    "## Analyzing the Categorical Features\n",
    "For categorical features, we can visualize them through **countplots.**"
   ]
  },
  {
   "cell_type": "code",
   "execution_count": 382,
   "id": "9f7b09fe-760a-4c4f-8853-54f15f4772ea",
   "metadata": {},
   "outputs": [
    {
     "data": {
      "text/plain": [
       "<AxesSubplot:xlabel='withFamily', ylabel='count'>"
      ]
     },
     "execution_count": 382,
     "metadata": {},
     "output_type": "execute_result"
    },
    {
     "data": {
      "image/png": "[encoded data removed]",
      "text/plain": [
       "<Figure size 1008x216 with 4 Axes>"
      ]
     },
     "metadata": {
      "needs_background": "light"
     },
     "output_type": "display_data"
    }
   ],
   "source": [
    "plt.figure(figsize= (14, 3))\n",
    "\n",
    "#Sex\n",
    "plt.subplot(1, 4, 1)\n",
    "sns.countplot(x='Sex', data=df_cat, hue='Survived', palette='Blues')\n",
    "\n",
    "#Pclass\n",
    "plt.subplot(1, 4, 2)\n",
    "sns.countplot(x='Pclass', data=df_cat, hue='Survived', palette='Blues')\n",
    "\n",
    "#Embarked\n",
    "plt.subplot(1, 4, 3)\n",
    "sns.countplot(x='Embarked', data=df_cat, hue='Survived', palette='Blues')\n",
    "\n",
    "#withFamily\n",
    "plt.subplot(1, 4, 4)\n",
    "sns.countplot(x='withFamily', data=df_cat, hue='Survived', palette='Blues') "
   ]
  },
  {
   "cell_type": "markdown",
   "id": "e70cf603-85e6-4b0c-9f21-82831da435ad",
   "metadata": {
    "tags": []
   },
   "source": [
    "#### Observations\n",
    "**Sex**\n",
    "- More males were on board.\n",
    "- Females had a higher survival rate than males did.\n",
    "**Pclass**\n",
    "- Most of the passengers are in Pclass 3. \n",
    "- Pclass 3 had the least survival rate than with Pclasses 1 and 2.\n",
    "- Pclass 1 is the only class with more survived passengers than dead passengers.\n",
    "**Embarked**\n",
    "- A major chunk of the passengers embarked from Southampton, and the least from Queensland.\n",
    "- The sample of those embarked from Cherbourg had more survived than dead passengers.\n",
    "**WithFamily**\n",
    "- Those who aboarded alone are likely to die than those with their families.\n",
    "> *\"There is nothing stronger than family.\" - Dom* \n",
    "\n",
    "#### Decisions\n",
    "- Validate the orrelations of 'Sex', 'Pclass', 'Embarked', and 'withFamily' with solution goal.\n",
    "- Create a new categorical feature 'Title' by extracting the titles from the given names of the passengers. Validate correlation.\n",
    "- Create a new categorical feature 'Unit' by extracting the units (i.e. letters, numbers) from the cabin numbers. Validate correlation."
   ]
  },
  {
   "cell_type": "markdown",
   "id": "f356b63f-4b75-4b4a-8108-b470f3d8d84d",
   "metadata": {},
   "source": [
    "### Correlating the Categorical Features"
   ]
  },
  {
   "cell_type": "markdown",
   "id": "fecd820d-ef51-469e-8358-c3ed8a98b1a6",
   "metadata": {},
   "source": [
    "- When determining the strength of association between two discrete nominal variables (i.e. 'Sex' vs 'Survived'), we can represent the dataset in the form of a **2x2 contingency table** and measure the correlation using **phi  coefficient.** We will use this for evaluating 'Sex', 'Embarked', and 'withFamily'.\n",
    "- When considering between ordinal vs nominal variables (i.e. 'Pclass' vs 'Survived'), determining the [rank-biserial correlation coefficient](https://www.statisticshowto.com/rank-biserial-correlation/) or the Spearman's correlation is the more appropriate strategy. We will use this for evaluating 'Pclass'."
   ]
  },
  {
   "cell_type": "code",
   "execution_count": 383,
   "id": "963cb612-ebf4-4e4d-be58-fec51db864f9",
   "metadata": {},
   "outputs": [
    {
     "data": {
      "text/html": [
       "<div>\n",
       "<style scoped>\n",
       "    .dataframe tbody tr th:only-of-type {\n",
       "        vertical-align: middle;\n",
       "    }\n",
       "\n",
       "    .dataframe tbody tr th {\n",
       "        vertical-align: top;\n",
       "    }\n",
       "\n",
       "    .dataframe thead th {\n",
       "        text-align: right;\n",
       "    }\n",
       "</style>\n",
       "<table border=\"1\" class=\"dataframe\">\n",
       "  <thead>\n",
       "    <tr style=\"text-align: right;\">\n",
       "      <th>Survived</th>\n",
       "      <th>0</th>\n",
       "      <th>1</th>\n",
       "    </tr>\n",
       "    <tr>\n",
       "      <th>Sex</th>\n",
       "      <th></th>\n",
       "      <th></th>\n",
       "    </tr>\n",
       "  </thead>\n",
       "  <tbody>\n",
       "    <tr>\n",
       "      <th>female</th>\n",
       "      <td>81</td>\n",
       "      <td>233</td>\n",
       "    </tr>\n",
       "    <tr>\n",
       "      <th>male</th>\n",
       "      <td>468</td>\n",
       "      <td>109</td>\n",
       "    </tr>\n",
       "  </tbody>\n",
       "</table>\n",
       "</div>"
      ],
      "text/plain": [
       "Survived    0    1\n",
       "Sex               \n",
       "female     81  233\n",
       "male      468  109"
      ]
     },
     "execution_count": 383,
     "metadata": {},
     "output_type": "execute_result"
    }
   ],
   "source": [
    "pd.pivot_table(train_df, columns='Survived', index=['Sex'], values='Ticket', aggfunc='count')"
   ]
  },
  {
   "cell_type": "code",
   "execution_count": 384,
   "id": "0afda403-8265-4468-a6db-a7bef5da9f34",
   "metadata": {},
   "outputs": [
    {
     "data": {
      "text/html": [
       "<div>\n",
       "<style scoped>\n",
       "    .dataframe tbody tr th:only-of-type {\n",
       "        vertical-align: middle;\n",
       "    }\n",
       "\n",
       "    .dataframe tbody tr th {\n",
       "        vertical-align: top;\n",
       "    }\n",
       "\n",
       "    .dataframe thead th {\n",
       "        text-align: right;\n",
       "    }\n",
       "</style>\n",
       "<table border=\"1\" class=\"dataframe\">\n",
       "  <thead>\n",
       "    <tr style=\"text-align: right;\">\n",
       "      <th>Survived</th>\n",
       "      <th>0</th>\n",
       "      <th>1</th>\n",
       "    </tr>\n",
       "    <tr>\n",
       "      <th>Embarked</th>\n",
       "      <th></th>\n",
       "      <th></th>\n",
       "    </tr>\n",
       "  </thead>\n",
       "  <tbody>\n",
       "    <tr>\n",
       "      <th>C</th>\n",
       "      <td>75</td>\n",
       "      <td>93</td>\n",
       "    </tr>\n",
       "    <tr>\n",
       "      <th>Q</th>\n",
       "      <td>47</td>\n",
       "      <td>30</td>\n",
       "    </tr>\n",
       "    <tr>\n",
       "      <th>S</th>\n",
       "      <td>427</td>\n",
       "      <td>217</td>\n",
       "    </tr>\n",
       "  </tbody>\n",
       "</table>\n",
       "</div>"
      ],
      "text/plain": [
       "Survived    0    1\n",
       "Embarked          \n",
       "C          75   93\n",
       "Q          47   30\n",
       "S         427  217"
      ]
     },
     "execution_count": 384,
     "metadata": {},
     "output_type": "execute_result"
    }
   ],
   "source": [
    "pd.pivot_table(train_df, columns='Survived', index=['Embarked'], values='Ticket', aggfunc='count')"
   ]
  },
  {
   "cell_type": "code",
   "execution_count": 385,
   "id": "20bd35ae-bf94-4949-b39f-eb8eaca2f8cc",
   "metadata": {},
   "outputs": [
    {
     "data": {
      "text/html": [
       "<div>\n",
       "<style scoped>\n",
       "    .dataframe tbody tr th:only-of-type {\n",
       "        vertical-align: middle;\n",
       "    }\n",
       "\n",
       "    .dataframe tbody tr th {\n",
       "        vertical-align: top;\n",
       "    }\n",
       "\n",
       "    .dataframe thead th {\n",
       "        text-align: right;\n",
       "    }\n",
       "</style>\n",
       "<table border=\"1\" class=\"dataframe\">\n",
       "  <thead>\n",
       "    <tr style=\"text-align: right;\">\n",
       "      <th>Survived</th>\n",
       "      <th>0</th>\n",
       "      <th>1</th>\n",
       "    </tr>\n",
       "    <tr>\n",
       "      <th>withFamily</th>\n",
       "      <th></th>\n",
       "      <th></th>\n",
       "    </tr>\n",
       "  </thead>\n",
       "  <tbody>\n",
       "    <tr>\n",
       "      <th>0</th>\n",
       "      <td>374</td>\n",
       "      <td>163</td>\n",
       "    </tr>\n",
       "    <tr>\n",
       "      <th>1</th>\n",
       "      <td>175</td>\n",
       "      <td>179</td>\n",
       "    </tr>\n",
       "  </tbody>\n",
       "</table>\n",
       "</div>"
      ],
      "text/plain": [
       "Survived      0    1\n",
       "withFamily          \n",
       "0           374  163\n",
       "1           175  179"
      ]
     },
     "execution_count": 385,
     "metadata": {},
     "output_type": "execute_result"
    }
   ],
   "source": [
    "pd.pivot_table(train_df, columns='Survived', index=['withFamily'], values='Ticket', aggfunc='count')"
   ]
  },
  {
   "cell_type": "code",
   "execution_count": 386,
   "id": "6c1ca1a9-a8e0-4d07-a17f-134bbbcad0ac",
   "metadata": {},
   "outputs": [
    {
     "data": {
      "text/plain": [
       "0.5433513806577551"
      ]
     },
     "execution_count": 386,
     "metadata": {},
     "output_type": "execute_result"
    }
   ],
   "source": [
    "# Computing for the correlation coefficients using the Cramer's V method.\n",
    "from scipy.stats.contingency import association\n",
    "\n",
    "# Constructing the 2x2 contingency table represented in terms of arrays\n",
    "obs_Sex = np.array([[81, 233],\n",
    "                   [468, 109]])\n",
    "\n",
    "# Cramer's V method\n",
    "association(obs_Sex, method='cramer')"
   ]
  },
  {
   "cell_type": "code",
   "execution_count": 387,
   "id": "3995fd02-3e6a-4c35-8e6e-6dcb43bc543f",
   "metadata": {},
   "outputs": [
    {
     "data": {
      "text/plain": [
       "0.17261682709984438"
      ]
     },
     "execution_count": 387,
     "metadata": {},
     "output_type": "execute_result"
    }
   ],
   "source": [
    "obs_Embark = np.array([[75, 93],\n",
    "                   [47, 30],\n",
    "                  [427, 217]])\n",
    "\n",
    "association(obs_Embark, method='cramer')"
   ]
  },
  {
   "cell_type": "code",
   "execution_count": 388,
   "id": "3816838d-f19c-4fb7-be35-1d49d3b778e9",
   "metadata": {},
   "outputs": [
    {
     "data": {
      "text/plain": [
       "0.20336708569989195"
      ]
     },
     "execution_count": 388,
     "metadata": {},
     "output_type": "execute_result"
    }
   ],
   "source": [
    "obs_withFam = np.array([[374, 163],\n",
    "                   [175, 179]])\n",
    "\n",
    "association(obs_withFam, method='cramer')"
   ]
  },
  {
   "cell_type": "code",
   "execution_count": 389,
   "id": "7cc582c5-8665-429a-884b-948d799478b3",
   "metadata": {},
   "outputs": [
    {
     "data": {
      "text/plain": [
       "SpearmanrResult(correlation=-0.33966793665005257, pvalue=1.6876081409966053e-25)"
      ]
     },
     "execution_count": 389,
     "metadata": {},
     "output_type": "execute_result"
    }
   ],
   "source": [
    "# Formula for the Rank-Biserail Correlation.\n",
    "# rbc = 2 * (Y1 – Y0) / n\n",
    "    # n = number of data pairs in the sample,\n",
    "    # Y0 = Y score means for data pairs with x = 0,\n",
    "    # Y1 = Y score means for data pairs with x = 1.\n",
    "\n",
    "# rbc = 2 * (train_df.loc[train_df['Survived'] == 1, 'Pclass'].mean() - \n",
    "#            train_df.loc[train_df['Survived'] == 0, 'Pclass'].mean() )/ len(train_df)\n",
    "\n",
    "train_df.loc[train_df['Survived'] == 1, 'Pclass'].mean()\n",
    "# train_df.loc[train_df['Survived'] == 0, 'Pclass'].mean()\n",
    "\n",
    "Pclass_df = train_df[['Survived', 'Pclass']]\n",
    "\n",
    "from scipy.stats import spearmanr\n",
    "spearmanr(Pclass_df)"
   ]
  },
  {
   "cell_type": "markdown",
   "id": "d0d44fff-c829-4e49-8e97-a125489d7738",
   "metadata": {},
   "source": [
    "#### Observations\n",
    "- **Sex**. A coefficient of 0.54 suggests a moderately strong association between 'Sex' and the solution goal.\n",
    "- **Embarked**. A coefficient of 0.17 suggests a weak association.\n",
    "- **withFamily**. A coefficient of 0.20 suggests a weak association; nonetheless, the correlation is way higher than when represented as continuous variable in terms of 'Family'.\n",
    "- **Pclass**. A Spearman coefficient of -0.34 suggests a weak correlatation."
   ]
  },
  {
   "cell_type": "markdown",
   "id": "94af09ad-2c52-4f50-8fe4-3f5711477e64",
   "metadata": {},
   "source": [
    "### Analyzing 'Name' and 'Cabin'"
   ]
  },
  {
   "cell_type": "markdown",
   "id": "87a3a6b3-b735-4918-acde-12e0262b15dc",
   "metadata": {},
   "source": [
    "- Does a passenger's title relate to survival rates?\n",
    "- Does the cabin unit *(extract first letter from alphanumeric string)*  affect survival rates?"
   ]
  },
  {
   "cell_type": "code",
   "execution_count": 390,
   "id": "88386fca-18b6-4608-ad77-8267b2bddb2b",
   "metadata": {},
   "outputs": [
    {
     "data": {
      "text/html": [
       "<div>\n",
       "<style scoped>\n",
       "    .dataframe tbody tr th:only-of-type {\n",
       "        vertical-align: middle;\n",
       "    }\n",
       "\n",
       "    .dataframe tbody tr th {\n",
       "        vertical-align: top;\n",
       "    }\n",
       "\n",
       "    .dataframe thead th {\n",
       "        text-align: right;\n",
       "    }\n",
       "</style>\n",
       "<table border=\"1\" class=\"dataframe\">\n",
       "  <thead>\n",
       "    <tr style=\"text-align: right;\">\n",
       "      <th></th>\n",
       "      <th>Name</th>\n",
       "      <th>Survived</th>\n",
       "      <th>Cabin</th>\n",
       "    </tr>\n",
       "  </thead>\n",
       "  <tbody>\n",
       "    <tr>\n",
       "      <th>0</th>\n",
       "      <td>Braund, Mr. Owen Harris</td>\n",
       "      <td>0</td>\n",
       "      <td>NaN</td>\n",
       "    </tr>\n",
       "    <tr>\n",
       "      <th>1</th>\n",
       "      <td>Cumings, Mrs. John Bradley (Florence Briggs Th...</td>\n",
       "      <td>1</td>\n",
       "      <td>C85</td>\n",
       "    </tr>\n",
       "    <tr>\n",
       "      <th>2</th>\n",
       "      <td>Heikkinen, Miss. Laina</td>\n",
       "      <td>1</td>\n",
       "      <td>NaN</td>\n",
       "    </tr>\n",
       "    <tr>\n",
       "      <th>3</th>\n",
       "      <td>Futrelle, Mrs. Jacques Heath (Lily May Peel)</td>\n",
       "      <td>1</td>\n",
       "      <td>C123</td>\n",
       "    </tr>\n",
       "    <tr>\n",
       "      <th>4</th>\n",
       "      <td>Allen, Mr. William Henry</td>\n",
       "      <td>0</td>\n",
       "      <td>NaN</td>\n",
       "    </tr>\n",
       "  </tbody>\n",
       "</table>\n",
       "</div>"
      ],
      "text/plain": [
       "                                                Name  Survived Cabin\n",
       "0                            Braund, Mr. Owen Harris         0   NaN\n",
       "1  Cumings, Mrs. John Bradley (Florence Briggs Th...         1   C85\n",
       "2                             Heikkinen, Miss. Laina         1   NaN\n",
       "3       Futrelle, Mrs. Jacques Heath (Lily May Peel)         1  C123\n",
       "4                           Allen, Mr. William Henry         0   NaN"
      ]
     },
     "execution_count": 390,
     "metadata": {},
     "output_type": "execute_result"
    }
   ],
   "source": [
    "df_cat = train_df[['Name', 'Survived', 'Cabin']]\n",
    "df_cat.head()"
   ]
  },
  {
   "cell_type": "code",
   "execution_count": 391,
   "id": "18ee4794-baee-40de-a682-0196a16e58f5",
   "metadata": {},
   "outputs": [
    {
     "name": "stderr",
     "output_type": "stream",
     "text": [
      "C:\\Users\\NAUT1S~1\\AppData\\Local\\Temp/ipykernel_4380/2915615596.py:5: SettingWithCopyWarning: \n",
      "A value is trying to be set on a copy of a slice from a DataFrame.\n",
      "Try using .loc[row_indexer,col_indexer] = value instead\n",
      "\n",
      "See the caveats in the documentation: https://pandas.pydata.org/pandas-docs/stable/user_guide/indexing.html#returning-a-view-versus-a-copy\n",
      "  df_cat['Title'] = df_cat['Name'].apply(lambda x: x.split(',')[1].split('.')[0].strip())\n"
     ]
    },
    {
     "data": {
      "text/html": [
       "<div>\n",
       "<style scoped>\n",
       "    .dataframe tbody tr th:only-of-type {\n",
       "        vertical-align: middle;\n",
       "    }\n",
       "\n",
       "    .dataframe tbody tr th {\n",
       "        vertical-align: top;\n",
       "    }\n",
       "\n",
       "    .dataframe thead th {\n",
       "        text-align: right;\n",
       "    }\n",
       "</style>\n",
       "<table border=\"1\" class=\"dataframe\">\n",
       "  <thead>\n",
       "    <tr style=\"text-align: right;\">\n",
       "      <th></th>\n",
       "      <th>Name</th>\n",
       "      <th>Survived</th>\n",
       "      <th>Cabin</th>\n",
       "      <th>Title</th>\n",
       "    </tr>\n",
       "  </thead>\n",
       "  <tbody>\n",
       "    <tr>\n",
       "      <th>0</th>\n",
       "      <td>Braund, Mr. Owen Harris</td>\n",
       "      <td>0</td>\n",
       "      <td>NaN</td>\n",
       "      <td>Mr</td>\n",
       "    </tr>\n",
       "    <tr>\n",
       "      <th>1</th>\n",
       "      <td>Cumings, Mrs. John Bradley (Florence Briggs Th...</td>\n",
       "      <td>1</td>\n",
       "      <td>C85</td>\n",
       "      <td>Mrs</td>\n",
       "    </tr>\n",
       "    <tr>\n",
       "      <th>2</th>\n",
       "      <td>Heikkinen, Miss. Laina</td>\n",
       "      <td>1</td>\n",
       "      <td>NaN</td>\n",
       "      <td>Miss</td>\n",
       "    </tr>\n",
       "    <tr>\n",
       "      <th>3</th>\n",
       "      <td>Futrelle, Mrs. Jacques Heath (Lily May Peel)</td>\n",
       "      <td>1</td>\n",
       "      <td>C123</td>\n",
       "      <td>Mrs</td>\n",
       "    </tr>\n",
       "    <tr>\n",
       "      <th>4</th>\n",
       "      <td>Allen, Mr. William Henry</td>\n",
       "      <td>0</td>\n",
       "      <td>NaN</td>\n",
       "      <td>Mr</td>\n",
       "    </tr>\n",
       "  </tbody>\n",
       "</table>\n",
       "</div>"
      ],
      "text/plain": [
       "                                                Name  Survived Cabin Title\n",
       "0                            Braund, Mr. Owen Harris         0   NaN    Mr\n",
       "1  Cumings, Mrs. John Bradley (Florence Briggs Th...         1   C85   Mrs\n",
       "2                             Heikkinen, Miss. Laina         1   NaN  Miss\n",
       "3       Futrelle, Mrs. Jacques Heath (Lily May Peel)         1  C123   Mrs\n",
       "4                           Allen, Mr. William Henry         0   NaN    Mr"
      ]
     },
     "execution_count": 391,
     "metadata": {},
     "output_type": "execute_result"
    }
   ],
   "source": [
    "# Analyzing 'Name'\n",
    "\n",
    "# Split the full name into a list by comma, then return the title by indexing the 2nd position [1]\n",
    "# Split the name into a list by period, then return the title by indexing the 1st position [0]\n",
    "df_cat['Title'] = df_cat['Name'].apply(lambda x: x.split(',')[1].split('.')[0].strip())\n",
    "df_cat.head()"
   ]
  },
  {
   "cell_type": "code",
   "execution_count": 392,
   "id": "88c312dc-7cd8-44ec-ab27-e7b0b4ecd15e",
   "metadata": {},
   "outputs": [
    {
     "data": {
      "text/plain": [
       "Mr              517\n",
       "Miss            182\n",
       "Mrs             125\n",
       "Master           40\n",
       "Dr                7\n",
       "Rev               6\n",
       "Mlle              2\n",
       "Major             2\n",
       "Col               2\n",
       "the Countess      1\n",
       "Capt              1\n",
       "Ms                1\n",
       "Sir               1\n",
       "Lady              1\n",
       "Mme               1\n",
       "Don               1\n",
       "Jonkheer          1\n",
       "Name: Title, dtype: int64"
      ]
     },
     "execution_count": 392,
     "metadata": {},
     "output_type": "execute_result"
    }
   ],
   "source": [
    "df_cat['Title'].value_counts()"
   ]
  },
  {
   "cell_type": "code",
   "execution_count": 393,
   "id": "8c835915-1ad9-4730-b354-386784af1b19",
   "metadata": {},
   "outputs": [
    {
     "data": {
      "text/html": [
       "<div>\n",
       "<style scoped>\n",
       "    .dataframe tbody tr th:only-of-type {\n",
       "        vertical-align: middle;\n",
       "    }\n",
       "\n",
       "    .dataframe tbody tr th {\n",
       "        vertical-align: top;\n",
       "    }\n",
       "\n",
       "    .dataframe thead th {\n",
       "        text-align: right;\n",
       "    }\n",
       "</style>\n",
       "<table border=\"1\" class=\"dataframe\">\n",
       "  <thead>\n",
       "    <tr style=\"text-align: right;\">\n",
       "      <th></th>\n",
       "      <th>Title</th>\n",
       "      <th>Survived</th>\n",
       "    </tr>\n",
       "  </thead>\n",
       "  <tbody>\n",
       "    <tr>\n",
       "      <th>0</th>\n",
       "      <td>Capt</td>\n",
       "      <td>0.000000</td>\n",
       "    </tr>\n",
       "    <tr>\n",
       "      <th>1</th>\n",
       "      <td>Col</td>\n",
       "      <td>0.500000</td>\n",
       "    </tr>\n",
       "    <tr>\n",
       "      <th>2</th>\n",
       "      <td>Don</td>\n",
       "      <td>0.000000</td>\n",
       "    </tr>\n",
       "    <tr>\n",
       "      <th>3</th>\n",
       "      <td>Dr</td>\n",
       "      <td>0.428571</td>\n",
       "    </tr>\n",
       "    <tr>\n",
       "      <th>4</th>\n",
       "      <td>Jonkheer</td>\n",
       "      <td>0.000000</td>\n",
       "    </tr>\n",
       "    <tr>\n",
       "      <th>5</th>\n",
       "      <td>Lady</td>\n",
       "      <td>1.000000</td>\n",
       "    </tr>\n",
       "    <tr>\n",
       "      <th>6</th>\n",
       "      <td>Major</td>\n",
       "      <td>0.500000</td>\n",
       "    </tr>\n",
       "    <tr>\n",
       "      <th>7</th>\n",
       "      <td>Master</td>\n",
       "      <td>0.575000</td>\n",
       "    </tr>\n",
       "    <tr>\n",
       "      <th>8</th>\n",
       "      <td>Miss</td>\n",
       "      <td>0.697802</td>\n",
       "    </tr>\n",
       "    <tr>\n",
       "      <th>9</th>\n",
       "      <td>Mlle</td>\n",
       "      <td>1.000000</td>\n",
       "    </tr>\n",
       "    <tr>\n",
       "      <th>10</th>\n",
       "      <td>Mme</td>\n",
       "      <td>1.000000</td>\n",
       "    </tr>\n",
       "    <tr>\n",
       "      <th>11</th>\n",
       "      <td>Mr</td>\n",
       "      <td>0.156673</td>\n",
       "    </tr>\n",
       "    <tr>\n",
       "      <th>12</th>\n",
       "      <td>Mrs</td>\n",
       "      <td>0.792000</td>\n",
       "    </tr>\n",
       "    <tr>\n",
       "      <th>13</th>\n",
       "      <td>Ms</td>\n",
       "      <td>1.000000</td>\n",
       "    </tr>\n",
       "    <tr>\n",
       "      <th>14</th>\n",
       "      <td>Rev</td>\n",
       "      <td>0.000000</td>\n",
       "    </tr>\n",
       "    <tr>\n",
       "      <th>15</th>\n",
       "      <td>Sir</td>\n",
       "      <td>1.000000</td>\n",
       "    </tr>\n",
       "    <tr>\n",
       "      <th>16</th>\n",
       "      <td>the Countess</td>\n",
       "      <td>1.000000</td>\n",
       "    </tr>\n",
       "  </tbody>\n",
       "</table>\n",
       "</div>"
      ],
      "text/plain": [
       "           Title  Survived\n",
       "0           Capt  0.000000\n",
       "1            Col  0.500000\n",
       "2            Don  0.000000\n",
       "3             Dr  0.428571\n",
       "4       Jonkheer  0.000000\n",
       "5           Lady  1.000000\n",
       "6          Major  0.500000\n",
       "7         Master  0.575000\n",
       "8           Miss  0.697802\n",
       "9           Mlle  1.000000\n",
       "10           Mme  1.000000\n",
       "11            Mr  0.156673\n",
       "12           Mrs  0.792000\n",
       "13            Ms  1.000000\n",
       "14           Rev  0.000000\n",
       "15           Sir  1.000000\n",
       "16  the Countess  1.000000"
      ]
     },
     "execution_count": 393,
     "metadata": {},
     "output_type": "execute_result"
    }
   ],
   "source": [
    "df_cat[['Title', 'Survived']].groupby(['Title'], as_index=False).mean()"
   ]
  },
  {
   "cell_type": "code",
   "execution_count": 394,
   "id": "2b2e145c-a198-4671-9952-2795babbbd48",
   "metadata": {},
   "outputs": [
    {
     "data": {
      "text/plain": [
       "<AxesSubplot:xlabel='Title', ylabel='count'>"
      ]
     },
     "execution_count": 394,
     "metadata": {},
     "output_type": "execute_result"
    },
    {
     "data": {
      "image/png": "[encoded data removed]",
      "text/plain": [
       "<Figure size 2160x2160 with 1 Axes>"
      ]
     },
     "metadata": {
      "needs_background": "light"
     },
     "output_type": "display_data"
    }
   ],
   "source": [
    "plt.figure(figsize=(30,30))\n",
    "sns.countplot(x='Title', data=df_cat, hue='Survived', palette='Blues')"
   ]
  },
  {
   "cell_type": "markdown",
   "id": "7c97e398-6c76-4b90-95d7-a29398d204f4",
   "metadata": {},
   "source": [
    "**Prefixes Meaning**\n",
    "- **Rev.** Ministers of most Christian denominations; ordained clergymen since 17th century.\n",
    "- **Mlle and Miss.** Unmarried female; young lady.\n",
    "- **Mme.** Woman\n",
    "- **Master, Major, and Don.** Lord, master, or owner (of a household).\n",
    "- **Col.** Colonel; army officer of high rank.\n",
    "- **the Countess.** Wife or widow of a count.\n",
    "- **Capt.** could refer to the captain of the ship.\n",
    "- **Ms.** Any women regardless of marital status.\n",
    "- **Lady.** Princesses or daughters of royal blood.\n",
    "- **Jonkheer.** Female equivalent denoting the lowest rank within the nobility.\n",
    "**Classify Titles**\n",
    "- Mlle and Ms > Miss\n",
    "- Mme > Mrs\n",
    "- Uncommon titles will be treated as a new category > Others"
   ]
  },
  {
   "cell_type": "code",
   "execution_count": 395,
   "id": "d8ae7c33-1589-4b72-b98a-ce7f14d1e509",
   "metadata": {},
   "outputs": [
    {
     "data": {
      "text/plain": [
       "array(['Capt', 'Col', 'Don', 'Dona', 'Dr', 'Jonkheer', 'Lady', 'Major',\n",
       "       'Master', 'Miss', 'Mlle', 'Mme', 'Mr', 'Mrs', 'Ms', 'Rev', 'Sir',\n",
       "       'the Countess'], dtype=object)"
      ]
     },
     "execution_count": 395,
     "metadata": {},
     "output_type": "execute_result"
    }
   ],
   "source": [
    "for dataset in df:\n",
    "    dataset['Title'] = dataset['Name'].apply(lambda x: x.split(',')[1].split('.')[0].strip())\n",
    "\n",
    "# Returns the unique 'titles' from the dataset\n",
    "Unique_titles = np.union1d(train_df['Title'].unique(), test_df['Title'].unique())\n",
    "Unique_titles"
   ]
  },
  {
   "cell_type": "code",
   "execution_count": 396,
   "id": "e9f680a1-edd6-4f33-886f-5ead242fc414",
   "metadata": {},
   "outputs": [
    {
     "name": "stdout",
     "output_type": "stream",
     "text": [
      "['Mr' 'Mrs' 'Miss' 'Master' 'Others']\n",
      "['Mr' 'Mrs' 'Miss' 'Master' 'Others']\n"
     ]
    }
   ],
   "source": [
    "for dataset in df:\n",
    "    dataset['Title'] = dataset['Title'].replace('Mlle', 'Miss')\n",
    "    dataset['Title'] = dataset['Title'].replace('Ms', 'Miss')\n",
    "    dataset['Title'] = dataset['Title'].replace('Mme', 'Mrs')\n",
    "    dataset['Title'] = dataset['Title'].replace(['Capt', 'Col', 'Don', 'Dona', 'Dr', 'Jonkheer', 'Lady', 'Major', 'Rev', 'Sir','the Countess'], 'Others')\n",
    "    \n",
    "print(train_df['Title'].unique())\n",
    "print(test_df['Title'].unique())"
   ]
  },
  {
   "cell_type": "code",
   "execution_count": 397,
   "id": "25244ac8-a797-43ac-bbff-2540db7c03de",
   "metadata": {},
   "outputs": [
    {
     "data": {
      "text/plain": [
       "<AxesSubplot:xlabel='Title', ylabel='count'>"
      ]
     },
     "execution_count": 397,
     "metadata": {},
     "output_type": "execute_result"
    },
    {
     "data": {
      "image/png": "[encoded data removed]",
      "text/plain": [
       "<Figure size 432x288 with 1 Axes>"
      ]
     },
     "metadata": {
      "needs_background": "light"
     },
     "output_type": "display_data"
    }
   ],
   "source": [
    "sns.countplot(x='Title', data=train_df, hue='Survived', palette='Blues')"
   ]
  },
  {
   "cell_type": "markdown",
   "id": "e1841e93-a930-4b39-a3a9-fcb5f5723baa",
   "metadata": {},
   "source": [
    "**Titles**\n",
    "- The Title feature also justifies the correlation between 'Sex' and 'Survived'.\n",
    "- The 'Others' category compiles a very small sample of the given dataset. Despite these titles having characterized of nobile status, it appears that they were trivial at the time of the crisis."
   ]
  },
  {
   "cell_type": "code",
   "execution_count": 398,
   "id": "b05f9333-7f46-4c1d-88ec-35589f045815",
   "metadata": {},
   "outputs": [
    {
     "name": "stderr",
     "output_type": "stream",
     "text": [
      "C:\\Users\\NAUT1S~1\\AppData\\Local\\Temp/ipykernel_4380/4234790963.py:2: SettingWithCopyWarning: \n",
      "A value is trying to be set on a copy of a slice from a DataFrame.\n",
      "Try using .loc[row_indexer,col_indexer] = value instead\n",
      "\n",
      "See the caveats in the documentation: https://pandas.pydata.org/pandas-docs/stable/user_guide/indexing.html#returning-a-view-versus-a-copy\n",
      "  df_cat['CabinUnit'] = df_cat['Cabin'].apply(lambda x: str(x)[0])\n"
     ]
    },
    {
     "data": {
      "text/html": [
       "<div>\n",
       "<style scoped>\n",
       "    .dataframe tbody tr th:only-of-type {\n",
       "        vertical-align: middle;\n",
       "    }\n",
       "\n",
       "    .dataframe tbody tr th {\n",
       "        vertical-align: top;\n",
       "    }\n",
       "\n",
       "    .dataframe thead th {\n",
       "        text-align: right;\n",
       "    }\n",
       "</style>\n",
       "<table border=\"1\" class=\"dataframe\">\n",
       "  <thead>\n",
       "    <tr style=\"text-align: right;\">\n",
       "      <th></th>\n",
       "      <th>CabinUnit</th>\n",
       "      <th>Survived</th>\n",
       "    </tr>\n",
       "  </thead>\n",
       "  <tbody>\n",
       "    <tr>\n",
       "      <th>3</th>\n",
       "      <td>D</td>\n",
       "      <td>0.757576</td>\n",
       "    </tr>\n",
       "    <tr>\n",
       "      <th>4</th>\n",
       "      <td>E</td>\n",
       "      <td>0.750000</td>\n",
       "    </tr>\n",
       "    <tr>\n",
       "      <th>1</th>\n",
       "      <td>B</td>\n",
       "      <td>0.744681</td>\n",
       "    </tr>\n",
       "    <tr>\n",
       "      <th>5</th>\n",
       "      <td>F</td>\n",
       "      <td>0.615385</td>\n",
       "    </tr>\n",
       "    <tr>\n",
       "      <th>2</th>\n",
       "      <td>C</td>\n",
       "      <td>0.593220</td>\n",
       "    </tr>\n",
       "    <tr>\n",
       "      <th>6</th>\n",
       "      <td>G</td>\n",
       "      <td>0.500000</td>\n",
       "    </tr>\n",
       "    <tr>\n",
       "      <th>0</th>\n",
       "      <td>A</td>\n",
       "      <td>0.466667</td>\n",
       "    </tr>\n",
       "    <tr>\n",
       "      <th>8</th>\n",
       "      <td>n</td>\n",
       "      <td>0.299854</td>\n",
       "    </tr>\n",
       "    <tr>\n",
       "      <th>7</th>\n",
       "      <td>T</td>\n",
       "      <td>0.000000</td>\n",
       "    </tr>\n",
       "  </tbody>\n",
       "</table>\n",
       "</div>"
      ],
      "text/plain": [
       "  CabinUnit  Survived\n",
       "3         D  0.757576\n",
       "4         E  0.750000\n",
       "1         B  0.744681\n",
       "5         F  0.615385\n",
       "2         C  0.593220\n",
       "6         G  0.500000\n",
       "0         A  0.466667\n",
       "8         n  0.299854\n",
       "7         T  0.000000"
      ]
     },
     "execution_count": 398,
     "metadata": {},
     "output_type": "execute_result"
    }
   ],
   "source": [
    "# Analyzing 'Cabin'\n",
    "df_cat['CabinUnit'] = df_cat['Cabin'].apply(lambda x: str(x)[0])\n",
    "df_cat['CabinUnit'].value_counts()\n",
    "df_cat[['CabinUnit', 'Survived']].groupby(['CabinUnit'], as_index=False).mean().sort_values(by='Survived', ascending=False)"
   ]
  },
  {
   "cell_type": "markdown",
   "id": "51f0abf8-dfca-486c-9d1c-261ddfce2e18",
   "metadata": {},
   "source": [
    "> Note that null values will be treated as a category, denoted as CabinUnit 'n'. "
   ]
  },
  {
   "cell_type": "code",
   "execution_count": 399,
   "id": "475ba24f-ca17-4d97-8105-5bad15fef6df",
   "metadata": {},
   "outputs": [
    {
     "data": {
      "text/html": [
       "<div>\n",
       "<style scoped>\n",
       "    .dataframe tbody tr th:only-of-type {\n",
       "        vertical-align: middle;\n",
       "    }\n",
       "\n",
       "    .dataframe tbody tr th {\n",
       "        vertical-align: top;\n",
       "    }\n",
       "\n",
       "    .dataframe thead th {\n",
       "        text-align: right;\n",
       "    }\n",
       "</style>\n",
       "<table border=\"1\" class=\"dataframe\">\n",
       "  <thead>\n",
       "    <tr style=\"text-align: right;\">\n",
       "      <th>Survived</th>\n",
       "      <th>0</th>\n",
       "      <th>1</th>\n",
       "    </tr>\n",
       "    <tr>\n",
       "      <th>CabinUnit</th>\n",
       "      <th></th>\n",
       "      <th></th>\n",
       "    </tr>\n",
       "  </thead>\n",
       "  <tbody>\n",
       "    <tr>\n",
       "      <th>A</th>\n",
       "      <td>8.0</td>\n",
       "      <td>7.0</td>\n",
       "    </tr>\n",
       "    <tr>\n",
       "      <th>B</th>\n",
       "      <td>12.0</td>\n",
       "      <td>35.0</td>\n",
       "    </tr>\n",
       "    <tr>\n",
       "      <th>C</th>\n",
       "      <td>24.0</td>\n",
       "      <td>35.0</td>\n",
       "    </tr>\n",
       "    <tr>\n",
       "      <th>D</th>\n",
       "      <td>8.0</td>\n",
       "      <td>25.0</td>\n",
       "    </tr>\n",
       "    <tr>\n",
       "      <th>E</th>\n",
       "      <td>8.0</td>\n",
       "      <td>24.0</td>\n",
       "    </tr>\n",
       "    <tr>\n",
       "      <th>F</th>\n",
       "      <td>5.0</td>\n",
       "      <td>8.0</td>\n",
       "    </tr>\n",
       "    <tr>\n",
       "      <th>G</th>\n",
       "      <td>2.0</td>\n",
       "      <td>2.0</td>\n",
       "    </tr>\n",
       "    <tr>\n",
       "      <th>T</th>\n",
       "      <td>1.0</td>\n",
       "      <td>NaN</td>\n",
       "    </tr>\n",
       "    <tr>\n",
       "      <th>n</th>\n",
       "      <td>481.0</td>\n",
       "      <td>206.0</td>\n",
       "    </tr>\n",
       "  </tbody>\n",
       "</table>\n",
       "</div>"
      ],
      "text/plain": [
       "Survived       0      1\n",
       "CabinUnit              \n",
       "A            8.0    7.0\n",
       "B           12.0   35.0\n",
       "C           24.0   35.0\n",
       "D            8.0   25.0\n",
       "E            8.0   24.0\n",
       "F            5.0    8.0\n",
       "G            2.0    2.0\n",
       "T            1.0    NaN\n",
       "n          481.0  206.0"
      ]
     },
     "execution_count": 399,
     "metadata": {},
     "output_type": "execute_result"
    }
   ],
   "source": [
    "pd.pivot_table(df_cat, index='CabinUnit', columns='Survived', values='Name', aggfunc='count')"
   ]
  },
  {
   "cell_type": "code",
   "execution_count": 400,
   "id": "d8150b99-6a88-4812-9583-9f037f5aca73",
   "metadata": {},
   "outputs": [
    {
     "data": {
      "text/plain": [
       "<AxesSubplot:xlabel='CabinUnit', ylabel='count'>"
      ]
     },
     "execution_count": 400,
     "metadata": {},
     "output_type": "execute_result"
    },
    {
     "data": {
      "image/png": "[encoded data removed]",
      "text/plain": [
       "<Figure size 1440x1080 with 1 Axes>"
      ]
     },
     "metadata": {
      "needs_background": "light"
     },
     "output_type": "display_data"
    }
   ],
   "source": [
    "plt.figure(figsize=(20,15))\n",
    "sns.countplot(x='CabinUnit', data=df_cat, hue='Survived', palette='Blues')"
   ]
  },
  {
   "cell_type": "markdown",
   "id": "4f37fcea-a16e-4699-a1c9-a480b48c20a1",
   "metadata": {},
   "source": [
    "**Cabin Unit.**\n",
    "- The abundance of missing values makes it difficult to be representative as a sample.\n",
    "- Deck/Cabin A was known as the Pomegrande, which is located at the superstructure of Titanic. The assumption that Cabin A would have a higher survival rate, however, isn't justified by our data. Hence, Cabin Unit column shall be removed."
   ]
  },
  {
   "cell_type": "markdown",
   "id": "525c93ec-8474-4cf8-800c-3b567c963a4a",
   "metadata": {
    "tags": []
   },
   "source": [
    "---\n",
    "## Data Wrangling\n",
    "- Drop null values from 'Embark' in datasets.\n",
    "- Remove 'SibSp', 'Parch', 'Passengerid', 'Family', 'Cabin'\n",
    "- Impute missing values in training 'Age' with mean. because it follows normal distribution.\n",
    "- Impute missing values in testing 'Fare' with median, because it is skewed.\n",
    "- Normalize 'Fare' through log transformation.\n",
    "- Drop irrelevant features 'Name', 'Cabin', and 'Ticket'.\n",
    "- Perform **one-hot encoding** with pd.get_dummies"
   ]
  },
  {
   "cell_type": "code",
   "execution_count": 401,
   "id": "07a58426-6d5c-4aec-abf1-bb706f79f420",
   "metadata": {},
   "outputs": [
    {
     "name": "stdout",
     "output_type": "stream",
     "text": [
      "(889, 15) (418, 14)\n"
     ]
    }
   ],
   "source": [
    "for dataset in df:\n",
    "    dataset.dropna(subset=['Embarked'], inplace=True)\n",
    "    \n",
    "df = [train_df, test_df]\n",
    "\n",
    "print(train_df.shape, test_df.shape)"
   ]
  },
  {
   "cell_type": "code",
   "execution_count": 402,
   "id": "5be18a89-d329-4bb0-8922-ba27e7b0c7f8",
   "metadata": {},
   "outputs": [
    {
     "name": "stdout",
     "output_type": "stream",
     "text": [
      "0\n",
      "0\n",
      "0\n",
      "0\n"
     ]
    }
   ],
   "source": [
    "for dataset in df:\n",
    "    dataset['Age'] = dataset['Age'].fillna(dataset['Age'].mean())\n",
    "    dataset['Fare'] = dataset['Fare'].fillna(dataset['Fare'].median())\n",
    "    print(dataset.Age.isnull().sum())\n",
    "    print(dataset.Fare.isnull().sum())"
   ]
  },
  {
   "cell_type": "code",
   "execution_count": 403,
   "id": "48bb4b15-d2e3-455f-bc05-6637c69dcb75",
   "metadata": {},
   "outputs": [],
   "source": [
    "for dataset in df:\n",
    "    dataset['Fare'] = np.log(dataset['Fare'] + 1)"
   ]
  },
  {
   "cell_type": "code",
   "execution_count": 404,
   "id": "fae318a9-786b-4e08-bad5-fb2a0f1752d5",
   "metadata": {},
   "outputs": [],
   "source": [
    "# Dropping irrelevant column features\n",
    "train_df.drop(['PassengerId', 'Name', 'SibSp', 'Parch', 'Ticket', 'Family', 'Cabin'], inplace=True, axis=1)\n",
    "test_df.drop(['PassengerId', 'Name', 'SibSp', 'Parch', 'Ticket', 'Family', 'Cabin'], inplace=True, axis=1)\n",
    "df = [train_df, test_df]"
   ]
  },
  {
   "cell_type": "code",
   "execution_count": 405,
   "id": "3de321b8-fc6e-4b2c-bfc0-69e60c20d69d",
   "metadata": {},
   "outputs": [
    {
     "data": {
      "text/html": [
       "<div>\n",
       "<style scoped>\n",
       "    .dataframe tbody tr th:only-of-type {\n",
       "        vertical-align: middle;\n",
       "    }\n",
       "\n",
       "    .dataframe tbody tr th {\n",
       "        vertical-align: top;\n",
       "    }\n",
       "\n",
       "    .dataframe thead th {\n",
       "        text-align: right;\n",
       "    }\n",
       "</style>\n",
       "<table border=\"1\" class=\"dataframe\">\n",
       "  <thead>\n",
       "    <tr style=\"text-align: right;\">\n",
       "      <th></th>\n",
       "      <th>Survived</th>\n",
       "      <th>Pclass</th>\n",
       "      <th>Age</th>\n",
       "      <th>Fare</th>\n",
       "      <th>Sex_female</th>\n",
       "      <th>Sex_male</th>\n",
       "      <th>Embarked_C</th>\n",
       "      <th>Embarked_Q</th>\n",
       "      <th>Embarked_S</th>\n",
       "      <th>withFamily_0</th>\n",
       "      <th>withFamily_1</th>\n",
       "      <th>Title_Master</th>\n",
       "      <th>Title_Miss</th>\n",
       "      <th>Title_Mr</th>\n",
       "      <th>Title_Mrs</th>\n",
       "      <th>Title_Others</th>\n",
       "    </tr>\n",
       "  </thead>\n",
       "  <tbody>\n",
       "    <tr>\n",
       "      <th>0</th>\n",
       "      <td>0</td>\n",
       "      <td>3</td>\n",
       "      <td>22.0</td>\n",
       "      <td>2.110213</td>\n",
       "      <td>0</td>\n",
       "      <td>1</td>\n",
       "      <td>0</td>\n",
       "      <td>0</td>\n",
       "      <td>1</td>\n",
       "      <td>0</td>\n",
       "      <td>1</td>\n",
       "      <td>0</td>\n",
       "      <td>0</td>\n",
       "      <td>1</td>\n",
       "      <td>0</td>\n",
       "      <td>0</td>\n",
       "    </tr>\n",
       "    <tr>\n",
       "      <th>1</th>\n",
       "      <td>1</td>\n",
       "      <td>1</td>\n",
       "      <td>38.0</td>\n",
       "      <td>4.280593</td>\n",
       "      <td>1</td>\n",
       "      <td>0</td>\n",
       "      <td>1</td>\n",
       "      <td>0</td>\n",
       "      <td>0</td>\n",
       "      <td>0</td>\n",
       "      <td>1</td>\n",
       "      <td>0</td>\n",
       "      <td>0</td>\n",
       "      <td>0</td>\n",
       "      <td>1</td>\n",
       "      <td>0</td>\n",
       "    </tr>\n",
       "    <tr>\n",
       "      <th>2</th>\n",
       "      <td>1</td>\n",
       "      <td>3</td>\n",
       "      <td>26.0</td>\n",
       "      <td>2.188856</td>\n",
       "      <td>1</td>\n",
       "      <td>0</td>\n",
       "      <td>0</td>\n",
       "      <td>0</td>\n",
       "      <td>1</td>\n",
       "      <td>1</td>\n",
       "      <td>0</td>\n",
       "      <td>0</td>\n",
       "      <td>1</td>\n",
       "      <td>0</td>\n",
       "      <td>0</td>\n",
       "      <td>0</td>\n",
       "    </tr>\n",
       "    <tr>\n",
       "      <th>3</th>\n",
       "      <td>1</td>\n",
       "      <td>1</td>\n",
       "      <td>35.0</td>\n",
       "      <td>3.990834</td>\n",
       "      <td>1</td>\n",
       "      <td>0</td>\n",
       "      <td>0</td>\n",
       "      <td>0</td>\n",
       "      <td>1</td>\n",
       "      <td>0</td>\n",
       "      <td>1</td>\n",
       "      <td>0</td>\n",
       "      <td>0</td>\n",
       "      <td>0</td>\n",
       "      <td>1</td>\n",
       "      <td>0</td>\n",
       "    </tr>\n",
       "    <tr>\n",
       "      <th>4</th>\n",
       "      <td>0</td>\n",
       "      <td>3</td>\n",
       "      <td>35.0</td>\n",
       "      <td>2.202765</td>\n",
       "      <td>0</td>\n",
       "      <td>1</td>\n",
       "      <td>0</td>\n",
       "      <td>0</td>\n",
       "      <td>1</td>\n",
       "      <td>1</td>\n",
       "      <td>0</td>\n",
       "      <td>0</td>\n",
       "      <td>0</td>\n",
       "      <td>1</td>\n",
       "      <td>0</td>\n",
       "      <td>0</td>\n",
       "    </tr>\n",
       "  </tbody>\n",
       "</table>\n",
       "</div>"
      ],
      "text/plain": [
       "   Survived  Pclass   Age      Fare  Sex_female  Sex_male  Embarked_C  \\\n",
       "0         0       3  22.0  2.110213           0         1           0   \n",
       "1         1       1  38.0  4.280593           1         0           1   \n",
       "2         1       3  26.0  2.188856           1         0           0   \n",
       "3         1       1  35.0  3.990834           1         0           0   \n",
       "4         0       3  35.0  2.202765           0         1           0   \n",
       "\n",
       "   Embarked_Q  Embarked_S  withFamily_0  withFamily_1  Title_Master  \\\n",
       "0           0           1             0             1             0   \n",
       "1           0           0             0             1             0   \n",
       "2           0           1             1             0             0   \n",
       "3           0           1             0             1             0   \n",
       "4           0           1             1             0             0   \n",
       "\n",
       "   Title_Miss  Title_Mr  Title_Mrs  Title_Others  \n",
       "0           0         1          0             0  \n",
       "1           0         0          1             0  \n",
       "2           1         0          0             0  \n",
       "3           0         0          1             0  \n",
       "4           0         1          0             0  "
      ]
     },
     "execution_count": 405,
     "metadata": {},
     "output_type": "execute_result"
    }
   ],
   "source": [
    "# Creating dummy indicator columns for categorical variables\n",
    "train_df = pd.get_dummies(train_df, columns=['Sex', 'Embarked', 'withFamily', 'Title'])\n",
    "test_df = pd.get_dummies(test_df, columns=['Sex', 'Embarked', 'withFamily','Title'])\n",
    "\n",
    "train_df.head()"
   ]
  },
  {
   "cell_type": "markdown",
   "id": "a987817f-725a-4ff4-89df-3ed213474186",
   "metadata": {},
   "source": [
    "---\n",
    "## Model Evaluation\n",
    "Now that we have completed the data preparation, we can now begin training our model and predict our solution goal. Since we are working with a given dataset with a predetermined solution goal, we are running a form of machine learning algorithm known as supervised learning. With that, here are some of the few models we can run and see how each of them perform based on accuracy.\n",
    "- Logistic Regression\n",
    "- Support Vector Machines (SVM)\n",
    "- K-Means Nearest Neighbors (KNN)\n",
    "- Decision Tree"
   ]
  },
  {
   "cell_type": "code",
   "execution_count": 406,
   "id": "756a8e3f-370f-42e0-b4a8-4fb3577d1ae8",
   "metadata": {},
   "outputs": [],
   "source": [
    "X_train = train_df.drop(\"Survived\", axis=1)\n",
    "Y_train = train_df[\"Survived\"]\n",
    "X_test = test_df"
   ]
  },
  {
   "cell_type": "code",
   "execution_count": 407,
   "id": "82781b91-ca21-49f7-b55f-2720389f5074",
   "metadata": {},
   "outputs": [
    {
     "name": "stderr",
     "output_type": "stream",
     "text": [
      "D:\\Anaconda\\lib\\site-packages\\sklearn\\linear_model\\_logistic.py:763: ConvergenceWarning: lbfgs failed to converge (status=1):\n",
      "STOP: TOTAL NO. of ITERATIONS REACHED LIMIT.\n",
      "\n",
      "Increase the number of iterations (max_iter) or scale the data as shown in:\n",
      "    https://scikit-learn.org/stable/modules/preprocessing.html\n",
      "Please also refer to the documentation for alternative solver options:\n",
      "    https://scikit-learn.org/stable/modules/linear_model.html#logistic-regression\n",
      "  n_iter_i = _check_optimize_result(\n"
     ]
    },
    {
     "data": {
      "text/plain": [
       "81.21"
      ]
     },
     "execution_count": 407,
     "metadata": {},
     "output_type": "execute_result"
    }
   ],
   "source": [
    "# Logistic Regression\n",
    "from sklearn.linear_model import LogisticRegression\n",
    "\n",
    "logreg = LogisticRegression()\n",
    "logreg.fit(X_train, Y_train)\n",
    "Y_pred = logreg.predict(X_test)\n",
    "logreg_acc = round(logreg.score(X_train, Y_train)*100, 2)\n",
    "logreg_acc"
   ]
  },
  {
   "cell_type": "code",
   "execution_count": 408,
   "id": "1a5fbad7-187d-456a-bd43-6e41bc2cb61f",
   "metadata": {},
   "outputs": [
    {
     "data": {
      "text/plain": [
       "77.39"
      ]
     },
     "execution_count": 408,
     "metadata": {},
     "output_type": "execute_result"
    }
   ],
   "source": [
    "# Support Vector Machines\n",
    "from sklearn.svm import SVC\n",
    "\n",
    "svc = SVC()\n",
    "svc.fit(X_train, Y_train)\n",
    "Y_pred = svc.predict(X_test)\n",
    "svc_acc = round(svc.score(X_train, Y_train)*100, 2)\n",
    "svc_acc"
   ]
  },
  {
   "cell_type": "code",
   "execution_count": 409,
   "id": "77dced21-5648-42cc-abc1-5b7d8c3af310",
   "metadata": {},
   "outputs": [
    {
     "data": {
      "text/plain": [
       "84.48"
      ]
     },
     "execution_count": 409,
     "metadata": {},
     "output_type": "execute_result"
    }
   ],
   "source": [
    "# K-Means Nearest Neighbors\n",
    "from sklearn.neighbors import KNeighborsClassifier\n",
    "knn = KNeighborsClassifier()\n",
    "knn.fit(X_train, Y_train)\n",
    "Y_pred = knn.predict(X_test)\n",
    "knn_acc = round(knn.score(X_train, Y_train)*100, 2)\n",
    "knn_acc"
   ]
  },
  {
   "cell_type": "code",
   "execution_count": 410,
   "id": "13b21dfe-a83b-4b09-b245-ac493816ec92",
   "metadata": {},
   "outputs": [
    {
     "data": {
      "text/plain": [
       "98.43"
      ]
     },
     "execution_count": 410,
     "metadata": {},
     "output_type": "execute_result"
    }
   ],
   "source": [
    "# Decision Tree\n",
    "from sklearn.tree import DecisionTreeClassifier\n",
    "tree = DecisionTreeClassifier()\n",
    "tree.fit(X_train, Y_train)\n",
    "Y_pred = tree.predict(X_test)\n",
    "tree_acc = round(tree.score(X_train, Y_train)*100, 2) \n",
    "tree_acc"
   ]
  },
  {
   "cell_type": "code",
   "execution_count": 415,
   "id": "945ce1cf-4877-454f-a047-124bdd5e0fc6",
   "metadata": {},
   "outputs": [],
   "source": [
    "# Generating the csv file for submission to Kaggle competition\n",
    "result = pd.DataFrame({\n",
    "    \"PassengerId\": test_df_copy[\"PassengerId\"],\n",
    "    \"Survived\": Y_pred\n",
    "})\n",
    "\n",
    "result.to_csv('Submission - Titanic.csv')"
   ]
  },
  {
   "cell_type": "code",
   "execution_count": 412,
   "id": "6473573e-2fee-4da8-9bf7-e95f5fb05cb8",
   "metadata": {},
   "outputs": [
    {
     "data": {
      "text/html": [
       "<div>\n",
       "<style scoped>\n",
       "    .dataframe tbody tr th:only-of-type {\n",
       "        vertical-align: middle;\n",
       "    }\n",
       "\n",
       "    .dataframe tbody tr th {\n",
       "        vertical-align: top;\n",
       "    }\n",
       "\n",
       "    .dataframe thead th {\n",
       "        text-align: right;\n",
       "    }\n",
       "</style>\n",
       "<table border=\"1\" class=\"dataframe\">\n",
       "  <thead>\n",
       "    <tr style=\"text-align: right;\">\n",
       "      <th></th>\n",
       "      <th>PassengerId</th>\n",
       "      <th>Pclass</th>\n",
       "      <th>Name</th>\n",
       "      <th>Sex</th>\n",
       "      <th>Age</th>\n",
       "      <th>SibSp</th>\n",
       "      <th>Parch</th>\n",
       "      <th>Ticket</th>\n",
       "      <th>Fare</th>\n",
       "      <th>Cabin</th>\n",
       "      <th>Embarked</th>\n",
       "    </tr>\n",
       "  </thead>\n",
       "  <tbody>\n",
       "    <tr>\n",
       "      <th>0</th>\n",
       "      <td>892</td>\n",
       "      <td>3</td>\n",
       "      <td>Kelly, Mr. James</td>\n",
       "      <td>male</td>\n",
       "      <td>34.5</td>\n",
       "      <td>0</td>\n",
       "      <td>0</td>\n",
       "      <td>330911</td>\n",
       "      <td>7.8292</td>\n",
       "      <td>NaN</td>\n",
       "      <td>Q</td>\n",
       "    </tr>\n",
       "    <tr>\n",
       "      <th>1</th>\n",
       "      <td>893</td>\n",
       "      <td>3</td>\n",
       "      <td>Wilkes, Mrs. James (Ellen Needs)</td>\n",
       "      <td>female</td>\n",
       "      <td>47.0</td>\n",
       "      <td>1</td>\n",
       "      <td>0</td>\n",
       "      <td>363272</td>\n",
       "      <td>7.0000</td>\n",
       "      <td>NaN</td>\n",
       "      <td>S</td>\n",
       "    </tr>\n",
       "    <tr>\n",
       "      <th>2</th>\n",
       "      <td>894</td>\n",
       "      <td>2</td>\n",
       "      <td>Myles, Mr. Thomas Francis</td>\n",
       "      <td>male</td>\n",
       "      <td>62.0</td>\n",
       "      <td>0</td>\n",
       "      <td>0</td>\n",
       "      <td>240276</td>\n",
       "      <td>9.6875</td>\n",
       "      <td>NaN</td>\n",
       "      <td>Q</td>\n",
       "    </tr>\n",
       "    <tr>\n",
       "      <th>3</th>\n",
       "      <td>895</td>\n",
       "      <td>3</td>\n",
       "      <td>Wirz, Mr. Albert</td>\n",
       "      <td>male</td>\n",
       "      <td>27.0</td>\n",
       "      <td>0</td>\n",
       "      <td>0</td>\n",
       "      <td>315154</td>\n",
       "      <td>8.6625</td>\n",
       "      <td>NaN</td>\n",
       "      <td>S</td>\n",
       "    </tr>\n",
       "    <tr>\n",
       "      <th>4</th>\n",
       "      <td>896</td>\n",
       "      <td>3</td>\n",
       "      <td>Hirvonen, Mrs. Alexander (Helga E Lindqvist)</td>\n",
       "      <td>female</td>\n",
       "      <td>22.0</td>\n",
       "      <td>1</td>\n",
       "      <td>1</td>\n",
       "      <td>3101298</td>\n",
       "      <td>12.2875</td>\n",
       "      <td>NaN</td>\n",
       "      <td>S</td>\n",
       "    </tr>\n",
       "    <tr>\n",
       "      <th>...</th>\n",
       "      <td>...</td>\n",
       "      <td>...</td>\n",
       "      <td>...</td>\n",
       "      <td>...</td>\n",
       "      <td>...</td>\n",
       "      <td>...</td>\n",
       "      <td>...</td>\n",
       "      <td>...</td>\n",
       "      <td>...</td>\n",
       "      <td>...</td>\n",
       "      <td>...</td>\n",
       "    </tr>\n",
       "    <tr>\n",
       "      <th>413</th>\n",
       "      <td>1305</td>\n",
       "      <td>3</td>\n",
       "      <td>Spector, Mr. Woolf</td>\n",
       "      <td>male</td>\n",
       "      <td>NaN</td>\n",
       "      <td>0</td>\n",
       "      <td>0</td>\n",
       "      <td>A.5. 3236</td>\n",
       "      <td>8.0500</td>\n",
       "      <td>NaN</td>\n",
       "      <td>S</td>\n",
       "    </tr>\n",
       "    <tr>\n",
       "      <th>414</th>\n",
       "      <td>1306</td>\n",
       "      <td>1</td>\n",
       "      <td>Oliva y Ocana, Dona. Fermina</td>\n",
       "      <td>female</td>\n",
       "      <td>39.0</td>\n",
       "      <td>0</td>\n",
       "      <td>0</td>\n",
       "      <td>PC 17758</td>\n",
       "      <td>108.9000</td>\n",
       "      <td>C105</td>\n",
       "      <td>C</td>\n",
       "    </tr>\n",
       "    <tr>\n",
       "      <th>415</th>\n",
       "      <td>1307</td>\n",
       "      <td>3</td>\n",
       "      <td>Saether, Mr. Simon Sivertsen</td>\n",
       "      <td>male</td>\n",
       "      <td>38.5</td>\n",
       "      <td>0</td>\n",
       "      <td>0</td>\n",
       "      <td>SOTON/O.Q. 3101262</td>\n",
       "      <td>7.2500</td>\n",
       "      <td>NaN</td>\n",
       "      <td>S</td>\n",
       "    </tr>\n",
       "    <tr>\n",
       "      <th>416</th>\n",
       "      <td>1308</td>\n",
       "      <td>3</td>\n",
       "      <td>Ware, Mr. Frederick</td>\n",
       "      <td>male</td>\n",
       "      <td>NaN</td>\n",
       "      <td>0</td>\n",
       "      <td>0</td>\n",
       "      <td>359309</td>\n",
       "      <td>8.0500</td>\n",
       "      <td>NaN</td>\n",
       "      <td>S</td>\n",
       "    </tr>\n",
       "    <tr>\n",
       "      <th>417</th>\n",
       "      <td>1309</td>\n",
       "      <td>3</td>\n",
       "      <td>Peter, Master. Michael J</td>\n",
       "      <td>male</td>\n",
       "      <td>NaN</td>\n",
       "      <td>1</td>\n",
       "      <td>1</td>\n",
       "      <td>2668</td>\n",
       "      <td>22.3583</td>\n",
       "      <td>NaN</td>\n",
       "      <td>C</td>\n",
       "    </tr>\n",
       "  </tbody>\n",
       "</table>\n",
       "<p>418 rows × 11 columns</p>\n",
       "</div>"
      ],
      "text/plain": [
       "     PassengerId  Pclass                                          Name  \\\n",
       "0            892       3                              Kelly, Mr. James   \n",
       "1            893       3              Wilkes, Mrs. James (Ellen Needs)   \n",
       "2            894       2                     Myles, Mr. Thomas Francis   \n",
       "3            895       3                              Wirz, Mr. Albert   \n",
       "4            896       3  Hirvonen, Mrs. Alexander (Helga E Lindqvist)   \n",
       "..           ...     ...                                           ...   \n",
       "413         1305       3                            Spector, Mr. Woolf   \n",
       "414         1306       1                  Oliva y Ocana, Dona. Fermina   \n",
       "415         1307       3                  Saether, Mr. Simon Sivertsen   \n",
       "416         1308       3                           Ware, Mr. Frederick   \n",
       "417         1309       3                      Peter, Master. Michael J   \n",
       "\n",
       "        Sex   Age  SibSp  Parch              Ticket      Fare Cabin Embarked  \n",
       "0      male  34.5      0      0              330911    7.8292   NaN        Q  \n",
       "1    female  47.0      1      0              363272    7.0000   NaN        S  \n",
       "2      male  62.0      0      0              240276    9.6875   NaN        Q  \n",
       "3      male  27.0      0      0              315154    8.6625   NaN        S  \n",
       "4    female  22.0      1      1             3101298   12.2875   NaN        S  \n",
       "..      ...   ...    ...    ...                 ...       ...   ...      ...  \n",
       "413    male   NaN      0      0           A.5. 3236    8.0500   NaN        S  \n",
       "414  female  39.0      0      0            PC 17758  108.9000  C105        C  \n",
       "415    male  38.5      0      0  SOTON/O.Q. 3101262    7.2500   NaN        S  \n",
       "416    male   NaN      0      0              359309    8.0500   NaN        S  \n",
       "417    male   NaN      1      1                2668   22.3583   NaN        C  \n",
       "\n",
       "[418 rows x 11 columns]"
      ]
     },
     "execution_count": 412,
     "metadata": {},
     "output_type": "execute_result"
    }
   ],
   "source": [
    "test_df_copy"
   ]
  },
  {
   "cell_type": "code",
   "execution_count": null,
   "id": "1f9aa795-42a0-4ce3-a02f-430031cf3297",
   "metadata": {},
   "outputs": [],
   "source": []
  },
  {
   "cell_type": "code",
   "execution_count": null,
   "id": "2cc13b62-a5ed-4e94-bac7-d9e6281c9888",
   "metadata": {},
   "outputs": [],
   "source": []
  },
  {
   "cell_type": "code",
   "execution_count": null,
   "id": "b1b28988-eb11-4e42-b259-8daf7f3c352a",
   "metadata": {},
   "outputs": [],
   "source": []
  },
  {
   "cell_type": "code",
   "execution_count": null,
   "id": "487e89c6-4b82-4767-8323-8753aed1187d",
   "metadata": {},
   "outputs": [],
   "source": []
  },
  {
   "cell_type": "code",
   "execution_count": null,
   "id": "bba9d500-e9b9-479e-848a-7e063c8ec22e",
   "metadata": {},
   "outputs": [],
   "source": []
  },
  {
   "cell_type": "code",
   "execution_count": null,
   "id": "3d3c7cb3-9971-424e-9a39-8e6ef6d8d721",
   "metadata": {},
   "outputs": [],
   "source": []
  },
  {
   "cell_type": "code",
   "execution_count": null,
   "id": "8e25c3d9-83d0-4e81-b781-b22baeb55e82",
   "metadata": {},
   "outputs": [],
   "source": []
  },
  {
   "cell_type": "code",
   "execution_count": null,
   "id": "629f077e-59ec-4cd7-b2eb-19adadee1f80",
   "metadata": {},
   "outputs": [],
   "source": []
  },
  {
   "cell_type": "code",
   "execution_count": null,
   "id": "b6b5d484-2917-4d52-9ab4-263302a580eb",
   "metadata": {},
   "outputs": [],
   "source": []
  }
 ],
 "metadata": {
  "kernelspec": {
   "display_name": "Python 3 (ipykernel)",
   "language": "python",
   "name": "python3"
  },
  "language_info": {
   "codemirror_mode": {
    "name": "ipython",
    "version": 3
   },
   "file_extension": ".py",
   "mimetype": "text/x-python",
   "name": "python",
   "nbconvert_exporter": "python",
   "pygments_lexer": "ipython3",
   "version": "3.9.7"
  }
 },
 "nbformat": 4,
 "nbformat_minor": 5
}
